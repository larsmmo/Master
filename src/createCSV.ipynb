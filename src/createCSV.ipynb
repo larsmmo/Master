{
 "cells": [
  {
   "cell_type": "markdown",
   "metadata": {},
   "source": [
    "# Gathering and formating of data from different files into a single usable csv file"
   ]
  },
  {
   "cell_type": "code",
   "execution_count": 1,
   "metadata": {},
   "outputs": [],
   "source": [
    "import pandas as pd\n",
    "import numpy as np\n",
    "import matplotlib.pyplot as plt\n",
    "from scipy import stats"
   ]
  },
  {
   "cell_type": "markdown",
   "metadata": {},
   "source": [
    "## Measurements taken at different positions inside the net"
   ]
  },
  {
   "cell_type": "code",
   "execution_count": 2,
   "metadata": {},
   "outputs": [],
   "source": [
    "DOinside=pd.read_excel('../data/oksygen/fornes2_excel_oksygen_Sal_330.xlsx', [0,1,2,3,4,5,6,7,8,9,10], usecols = [1,3,5,10,12,17,19,24,26], index_col = 0)\n",
    "\n",
    "#Position 1\n",
    "DOinside[0].columns = ['Pos1m3Temp', 'Pos1m3DO', 'Pos1m6Temp', 'Pos1m6DO', 'Pos1m9Temp', 'Pos1m9DO', 'Pos1m12Temp', 'Pos1m12DO']\n",
    "\n",
    "#Position 4\n",
    "DOinside[1] = DOinside[1][['Cat11TemperatureDeg','Cat11DisOxySaturated' ]]\n",
    "DOinside[1].columns = ['Pos4m3Temp', 'Pos4m3DO']\n",
    "\n",
    "#Position 5\n",
    "DOinside[2] = DOinside[2][['Cat11TemperatureDeg','Cat11DisOxySaturated']]\n",
    "DOinside[2].columns = ['Pos5m3Temp', 'Pos5m3DO']\n",
    "\n",
    "#Position 6\n",
    "DOinside[3] = DOinside[3][['Cat11TemperatureDeg','Cat11DisOxySaturated']]\n",
    "DOinside[3].columns = ['Pos6m3Temp', 'Pos6m3DO']\n",
    "\n",
    "#Position 7\n",
    "DOinside[4] = DOinside[4][['Cat11TemperatureDeg','Cat11DisOxySaturated']]\n",
    "DOinside[4].columns = ['Pos7m3Temp', 'Pos7m3DO']\n",
    "\n",
    "#Position 12\n",
    "#NOTE: Same position in net as 'Position 1'?\n",
    "DOinside[5].columns = ['Pos1m3Temp', 'Pos1m3DO', 'Pos1m6Temp', 'Pos1m6DO', 'Pos1m9Temp', 'Pos1m9DO', 'Pos4m3Temp', 'Pos4m3DO']\n",
    "DOinside[5].drop(['Pos4m3Temp', 'Pos4m3DO'], axis=1, inplace=True)\n",
    "DOinside[0] = pd.concat([DOinside[0],DOinside[5]], ignore_index=False, verify_integrity=True)\n",
    "\n",
    "#Position 22\n",
    "#NOTE: pos 22 has measurements until 15:00, but was taken up from the water 14:39 according to log. Using data until 14:39 (from dict 6).\n",
    "DOinside[7] = DOinside[6][['Cat21TemperatureDeg','Cat21DisOxySaturated', 'Cat32TemperatureDeg','Cat32DisOxySaturated']]\n",
    "DOinside[7].columns = ['Pos22m2Temp', 'Pos22m2DO', 'Pos22m4Temp', 'Pos22m4DO']\n",
    "\n",
    "#Position 21\n",
    "DOinside[6] = DOinside[6][['Cat33TemperatureDeg','Cat33DisOxySaturated', 'Cat11TemperatureDeg','Cat11DisOxySaturated']]\n",
    "DOinside[6].columns = ['Pos21m4Temp', 'Pos21m4DO', 'Pos21m2Temp', 'Pos21m2DO']\n",
    "\n",
    "#Position 23\n",
    "DOinside[8] = DOinside[8][['Cat33TemperatureDeg','Cat33DisOxySaturated', 'Cat11TemperatureDeg','Cat11DisOxySaturated']]\n",
    "DOinside[8].columns = ['Pos23m4Temp', 'Pos23m4DO', 'Pos23m2Temp', 'Pos23m2DO']\n",
    "\n",
    "#Position 31\n",
    "DOinside[9] = DOinside[9][['Cat33TemperatureDeg','Cat33DisOxySaturated', 'Cat11TemperatureDeg','Cat11DisOxySaturated']]\n",
    "DOinside[9].columns = ['Pos31m4Temp', 'Pos31m4DO', 'Pos31m2Temp', 'Pos31m2DO']\n",
    "\n",
    "#Position 32\n",
    "DOinside[10] = DOinside[10][['Cat21TemperatureDeg','Cat21DisOxySaturated', 'Cat32TemperatureDeg','Cat32DisOxySaturated']]\n",
    "DOinside[10].columns = ['Pos32m2Temp', 'Pos32m2DO', 'Pos32m4Temp', 'Pos32m4DO']\n",
    "\n",
    "for key, frame in DOinside.items():\n",
    "    frame.index.name = 'Timestamp'\n",
    "    \n",
    "#Create a list of dataframes for easy concatenation later\n",
    "DOinsideList= [ v for k,v in DOinside.items()]\n",
    "del DOinsideList[5] # Remove pos12 measurements since they have been concatenated with pos1 (pos1=pos12)"
   ]
  },
  {
   "cell_type": "markdown",
   "metadata": {},
   "source": [
    "## Measurements from DO sensors: 584 (North inside), 586 (South outside) and 588 (South inside)"
   ]
  },
  {
   "cell_type": "code",
   "execution_count": 3,
   "metadata": {},
   "outputs": [],
   "source": [
    "DO58x = pd.read_excel('../data/oksygen/AADI_DO_Fornes_V2.xlsx', 3, usecols = [0,2,3,6,7,10,11], header=1)\n",
    "DO58x.columns = ['Timestamp','NorthDO', 'NorthTemp', 'SouthOutsideDO', 'SouthOutsideTemp', 'SouthDO','SouthTemp']\n",
    "DO58x['Timestamp'] = DO58x['Timestamp'].apply(lambda t: t.replace(second=0)).astype('datetime64[s]')\n",
    "DO58x.set_index('Timestamp', inplace=True)"
   ]
  },
  {
   "cell_type": "markdown",
   "metadata": {},
   "source": [
    "## Tide level data"
   ]
  },
  {
   "cell_type": "code",
   "execution_count": 4,
   "metadata": {},
   "outputs": [],
   "source": [
    "# Tide level data\n",
    "tide = pd.read_excel('../data/oksygen/AADI_DO_Fornes_V2.xlsx', 6, usecols = [0,1], header=0)\n",
    "tide.columns = ['Timestamp','TideLevel']\n",
    "tide['Timestamp'] =tide['Timestamp'].apply(lambda t: t.replace(second=0))\n",
    "tide.set_index('Timestamp', inplace=True)"
   ]
  },
  {
   "cell_type": "markdown",
   "metadata": {},
   "source": [
    "## Measurements from DO31 sensor placed outside of net"
   ]
  },
  {
   "cell_type": "code",
   "execution_count": 5,
   "metadata": {},
   "outputs": [],
   "source": [
    "DO31 = pd.read_excel('../data/oksygen/AADI_DO_Fornes_V2.xlsx', 5, usecols = [0,2,4])\n",
    "DO31.columns = ['Timestamp','DO31Temp', 'DO31DO']\n",
    "DO31['Timestamp'] = DO31['Timestamp'].apply(lambda t: t.replace(second=0)).astype('datetime64[s]')\n",
    "DO31.set_index('Timestamp', inplace=True)"
   ]
  },
  {
   "cell_type": "markdown",
   "metadata": {},
   "source": [
    "## NTNU ADCP measurements (temperature (degC) and current(m/s)). Sensor placed outside of net."
   ]
  },
  {
   "cell_type": "code",
   "execution_count": 6,
   "metadata": {},
   "outputs": [],
   "source": [
    "# Time, temperature and sensor status \n",
    "ADCPcolumns = [0, 5, 11]\n",
    "ADCPcolumnNames = ['Timestamp', 'TempADCP', 'ADCPstatus']\n",
    "\n",
    "# Horizontal speed (cell 0-39)\n",
    "ADCPcolumns.extend(list(range(67,107))) \n",
    "ADCPcolumnNames.extend(['CurrentHorizontal' + str(i) + 'm' for i in range(2,42)])\n",
    "\n",
    "# Direction (0-39)\n",
    "ADCPcolumns.extend(list(range(107,147)))\n",
    "ADCPcolumnNames.extend(['CurrentDirection' + str(i) + 'm' for i in range(2,42)])\n",
    "\n",
    "# North speed (0-39)\n",
    "ADCPcolumns.extend(list(range(147,187)))\n",
    "ADCPcolumnNames.extend(['CurrentNorth' + str(i) + 'm' for i in range(2,42)])\n",
    "\n",
    "# East speed (0-39)\n",
    "ADCPcolumns.extend(list(range(187,227)))\n",
    "ADCPcolumnNames.extend(['CurrentEast' + str(i) + 'm' for i in range(2,42)])\n",
    "\n",
    "# Vertical speed (0-39)\n",
    "ADCPcolumns.extend(list(range(227,267)))\n",
    "ADCPcolumnNames.extend(['CurrentVertical' + str(i) + 'm' for i in range(2,42)])\n",
    "\n",
    "ADCP = pd.read_csv('../data/adcp_ntnu_fornes2.csv', usecols=ADCPcolumns, skiprows=182, skipfooter=72, engine='python')\n",
    "ADCP.columns = ADCPcolumnNames\n",
    "\n",
    "#Convert timestamp to local timezone (+2 hours)\n",
    "ADCP['Timestamp'] = pd.to_datetime(ADCP['Timestamp'], format='%d.%m.%Y %H.%M.%S')\n",
    "ADCP['Timestamp'] += pd.Timedelta(hours=2)\n",
    "ADCP.set_index('Timestamp', inplace=True)\n",
    "\n",
    "# Remove invalid values based on sensor status\n",
    "ADCP.drop(ADCP[ADCP['ADCPstatus'] != 'OK'].index, inplace = True)\n",
    "ADCP.drop('ADCPstatus', axis = 1, inplace=True)\n",
    "\n",
    "# Convert current measurements from cm/s to to m/s\n",
    "ADCP.loc[:,'CurrentHorizontal2m':'CurrentHorizontal41m'] = ADCP.loc[:,'CurrentHorizontal2m':'CurrentHorizontal41m'].divide(100, axis=0)\n",
    "ADCP.loc[:,'CurrentNorth2m':'CurrentVertical41m'] = ADCP.loc[:,'CurrentNorth2m':'CurrentVertical41m'].divide(100, axis=0)"
   ]
  },
  {
   "cell_type": "markdown",
   "metadata": {},
   "source": [
    "# Removal of outliers"
   ]
  },
  {
   "cell_type": "code",
   "execution_count": 7,
   "metadata": {},
   "outputs": [],
   "source": [
    "# 3 std over/under\n",
    "#for column in ADCP:\n",
    "    #ADCP[column].mask(np.abs(stats.zscore(ADCP[column]) > 3), inplace=True)\n",
    "    #print((ADCP[column].isna()).sum())"
   ]
  },
  {
   "cell_type": "markdown",
   "metadata": {},
   "source": [
    "## Join frames, format index and save to csv"
   ]
  },
  {
   "cell_type": "code",
   "execution_count": 8,
   "metadata": {},
   "outputs": [],
   "source": [
    "joined = pd.concat(DOinsideList ,axis=1, ignore_index=False, verify_integrity=True)\n",
    "joined = pd.concat([joined, DO31, DO58x, tide, ADCP], axis = 1, ignore_index=False, verify_integrity=True)\n",
    "#joined.index = joined.index.to_julian_date() #*24*60*60\n",
    "#joined.index = pd.to_datetime(joined.index, unit='m')\n",
    "joined.index = joined.index.strftime('%m-%d %H:%M') # Only show month, day, hours and minutes\n",
    "joined.to_csv('../data/mergedData.csv')"
   ]
  },
  {
   "cell_type": "code",
   "execution_count": 9,
   "metadata": {},
   "outputs": [
    {
     "data": {
      "text/plain": [
       "dtype('O')"
      ]
     },
     "execution_count": 9,
     "metadata": {},
     "output_type": "execute_result"
    }
   ],
   "source": [
    "joined.index.dtype"
   ]
  },
  {
   "cell_type": "code",
   "execution_count": 10,
   "metadata": {},
   "outputs": [
    {
     "data": {
      "text/html": [
       "<div>\n",
       "<style scoped>\n",
       "    .dataframe tbody tr th:only-of-type {\n",
       "        vertical-align: middle;\n",
       "    }\n",
       "\n",
       "    .dataframe tbody tr th {\n",
       "        vertical-align: top;\n",
       "    }\n",
       "\n",
       "    .dataframe thead th {\n",
       "        text-align: right;\n",
       "    }\n",
       "</style>\n",
       "<table border=\"1\" class=\"dataframe\">\n",
       "  <thead>\n",
       "    <tr style=\"text-align: right;\">\n",
       "      <th></th>\n",
       "      <th>Pos1m3Temp</th>\n",
       "      <th>Pos1m3DO</th>\n",
       "      <th>Pos1m6Temp</th>\n",
       "      <th>Pos1m6DO</th>\n",
       "      <th>Pos1m9Temp</th>\n",
       "      <th>Pos1m9DO</th>\n",
       "      <th>Pos1m12Temp</th>\n",
       "      <th>Pos1m12DO</th>\n",
       "      <th>Pos4m3Temp</th>\n",
       "      <th>Pos4m3DO</th>\n",
       "      <th>...</th>\n",
       "      <th>CurrentVertical32m</th>\n",
       "      <th>CurrentVertical33m</th>\n",
       "      <th>CurrentVertical34m</th>\n",
       "      <th>CurrentVertical35m</th>\n",
       "      <th>CurrentVertical36m</th>\n",
       "      <th>CurrentVertical37m</th>\n",
       "      <th>CurrentVertical38m</th>\n",
       "      <th>CurrentVertical39m</th>\n",
       "      <th>CurrentVertical40m</th>\n",
       "      <th>CurrentVertical41m</th>\n",
       "    </tr>\n",
       "    <tr>\n",
       "      <th>Timestamp</th>\n",
       "      <th></th>\n",
       "      <th></th>\n",
       "      <th></th>\n",
       "      <th></th>\n",
       "      <th></th>\n",
       "      <th></th>\n",
       "      <th></th>\n",
       "      <th></th>\n",
       "      <th></th>\n",
       "      <th></th>\n",
       "      <th></th>\n",
       "      <th></th>\n",
       "      <th></th>\n",
       "      <th></th>\n",
       "      <th></th>\n",
       "      <th></th>\n",
       "      <th></th>\n",
       "      <th></th>\n",
       "      <th></th>\n",
       "      <th></th>\n",
       "      <th></th>\n",
       "    </tr>\n",
       "  </thead>\n",
       "  <tbody>\n",
       "    <tr>\n",
       "      <th>07-02 15:00</th>\n",
       "      <td>NaN</td>\n",
       "      <td>NaN</td>\n",
       "      <td>NaN</td>\n",
       "      <td>NaN</td>\n",
       "      <td>NaN</td>\n",
       "      <td>NaN</td>\n",
       "      <td>NaN</td>\n",
       "      <td>NaN</td>\n",
       "      <td>NaN</td>\n",
       "      <td>NaN</td>\n",
       "      <td>...</td>\n",
       "      <td>NaN</td>\n",
       "      <td>NaN</td>\n",
       "      <td>NaN</td>\n",
       "      <td>NaN</td>\n",
       "      <td>NaN</td>\n",
       "      <td>NaN</td>\n",
       "      <td>NaN</td>\n",
       "      <td>NaN</td>\n",
       "      <td>NaN</td>\n",
       "      <td>NaN</td>\n",
       "    </tr>\n",
       "    <tr>\n",
       "      <th>07-02 15:03</th>\n",
       "      <td>NaN</td>\n",
       "      <td>NaN</td>\n",
       "      <td>NaN</td>\n",
       "      <td>NaN</td>\n",
       "      <td>NaN</td>\n",
       "      <td>NaN</td>\n",
       "      <td>NaN</td>\n",
       "      <td>NaN</td>\n",
       "      <td>NaN</td>\n",
       "      <td>NaN</td>\n",
       "      <td>...</td>\n",
       "      <td>NaN</td>\n",
       "      <td>NaN</td>\n",
       "      <td>NaN</td>\n",
       "      <td>NaN</td>\n",
       "      <td>NaN</td>\n",
       "      <td>NaN</td>\n",
       "      <td>NaN</td>\n",
       "      <td>NaN</td>\n",
       "      <td>NaN</td>\n",
       "      <td>NaN</td>\n",
       "    </tr>\n",
       "    <tr>\n",
       "      <th>07-02 15:04</th>\n",
       "      <td>NaN</td>\n",
       "      <td>NaN</td>\n",
       "      <td>NaN</td>\n",
       "      <td>NaN</td>\n",
       "      <td>NaN</td>\n",
       "      <td>NaN</td>\n",
       "      <td>NaN</td>\n",
       "      <td>NaN</td>\n",
       "      <td>NaN</td>\n",
       "      <td>NaN</td>\n",
       "      <td>...</td>\n",
       "      <td>NaN</td>\n",
       "      <td>NaN</td>\n",
       "      <td>NaN</td>\n",
       "      <td>NaN</td>\n",
       "      <td>NaN</td>\n",
       "      <td>NaN</td>\n",
       "      <td>NaN</td>\n",
       "      <td>NaN</td>\n",
       "      <td>NaN</td>\n",
       "      <td>NaN</td>\n",
       "    </tr>\n",
       "    <tr>\n",
       "      <th>07-02 15:05</th>\n",
       "      <td>NaN</td>\n",
       "      <td>NaN</td>\n",
       "      <td>NaN</td>\n",
       "      <td>NaN</td>\n",
       "      <td>NaN</td>\n",
       "      <td>NaN</td>\n",
       "      <td>NaN</td>\n",
       "      <td>NaN</td>\n",
       "      <td>NaN</td>\n",
       "      <td>NaN</td>\n",
       "      <td>...</td>\n",
       "      <td>NaN</td>\n",
       "      <td>NaN</td>\n",
       "      <td>NaN</td>\n",
       "      <td>NaN</td>\n",
       "      <td>NaN</td>\n",
       "      <td>NaN</td>\n",
       "      <td>NaN</td>\n",
       "      <td>NaN</td>\n",
       "      <td>NaN</td>\n",
       "      <td>NaN</td>\n",
       "    </tr>\n",
       "    <tr>\n",
       "      <th>07-02 15:06</th>\n",
       "      <td>NaN</td>\n",
       "      <td>NaN</td>\n",
       "      <td>NaN</td>\n",
       "      <td>NaN</td>\n",
       "      <td>NaN</td>\n",
       "      <td>NaN</td>\n",
       "      <td>NaN</td>\n",
       "      <td>NaN</td>\n",
       "      <td>NaN</td>\n",
       "      <td>NaN</td>\n",
       "      <td>...</td>\n",
       "      <td>NaN</td>\n",
       "      <td>NaN</td>\n",
       "      <td>NaN</td>\n",
       "      <td>NaN</td>\n",
       "      <td>NaN</td>\n",
       "      <td>NaN</td>\n",
       "      <td>NaN</td>\n",
       "      <td>NaN</td>\n",
       "      <td>NaN</td>\n",
       "      <td>NaN</td>\n",
       "    </tr>\n",
       "  </tbody>\n",
       "</table>\n",
       "<p>5 rows × 246 columns</p>\n",
       "</div>"
      ],
      "text/plain": [
       "             Pos1m3Temp  Pos1m3DO  Pos1m6Temp  Pos1m6DO  Pos1m9Temp  Pos1m9DO  \\\n",
       "Timestamp                                                                       \n",
       "07-02 15:00         NaN       NaN         NaN       NaN         NaN       NaN   \n",
       "07-02 15:03         NaN       NaN         NaN       NaN         NaN       NaN   \n",
       "07-02 15:04         NaN       NaN         NaN       NaN         NaN       NaN   \n",
       "07-02 15:05         NaN       NaN         NaN       NaN         NaN       NaN   \n",
       "07-02 15:06         NaN       NaN         NaN       NaN         NaN       NaN   \n",
       "\n",
       "             Pos1m12Temp  Pos1m12DO  Pos4m3Temp  Pos4m3DO  ...  \\\n",
       "Timestamp                                                  ...   \n",
       "07-02 15:00          NaN        NaN         NaN       NaN  ...   \n",
       "07-02 15:03          NaN        NaN         NaN       NaN  ...   \n",
       "07-02 15:04          NaN        NaN         NaN       NaN  ...   \n",
       "07-02 15:05          NaN        NaN         NaN       NaN  ...   \n",
       "07-02 15:06          NaN        NaN         NaN       NaN  ...   \n",
       "\n",
       "             CurrentVertical32m  CurrentVertical33m  CurrentVertical34m  \\\n",
       "Timestamp                                                                 \n",
       "07-02 15:00                 NaN                 NaN                 NaN   \n",
       "07-02 15:03                 NaN                 NaN                 NaN   \n",
       "07-02 15:04                 NaN                 NaN                 NaN   \n",
       "07-02 15:05                 NaN                 NaN                 NaN   \n",
       "07-02 15:06                 NaN                 NaN                 NaN   \n",
       "\n",
       "             CurrentVertical35m  CurrentVertical36m  CurrentVertical37m  \\\n",
       "Timestamp                                                                 \n",
       "07-02 15:00                 NaN                 NaN                 NaN   \n",
       "07-02 15:03                 NaN                 NaN                 NaN   \n",
       "07-02 15:04                 NaN                 NaN                 NaN   \n",
       "07-02 15:05                 NaN                 NaN                 NaN   \n",
       "07-02 15:06                 NaN                 NaN                 NaN   \n",
       "\n",
       "             CurrentVertical38m  CurrentVertical39m  CurrentVertical40m  \\\n",
       "Timestamp                                                                 \n",
       "07-02 15:00                 NaN                 NaN                 NaN   \n",
       "07-02 15:03                 NaN                 NaN                 NaN   \n",
       "07-02 15:04                 NaN                 NaN                 NaN   \n",
       "07-02 15:05                 NaN                 NaN                 NaN   \n",
       "07-02 15:06                 NaN                 NaN                 NaN   \n",
       "\n",
       "             CurrentVertical41m  \n",
       "Timestamp                        \n",
       "07-02 15:00                 NaN  \n",
       "07-02 15:03                 NaN  \n",
       "07-02 15:04                 NaN  \n",
       "07-02 15:05                 NaN  \n",
       "07-02 15:06                 NaN  \n",
       "\n",
       "[5 rows x 246 columns]"
      ]
     },
     "execution_count": 10,
     "metadata": {},
     "output_type": "execute_result"
    }
   ],
   "source": [
    "#DOinside[10].head()\n",
    "joined.head()\n",
    "#joined.index.dtype\n",
    "#pd.to_datetime(joined.index, format='%m/%d/%H/%M')\n",
    "#joined.index.astype('datetime64[s]')\n",
    "#joined.index = joined.index.to_datetime(format=)\n",
    "#joined.tail(10)\n",
    "#DO31.head()\n",
    "#df[0].describe()"
   ]
  },
  {
   "cell_type": "code",
   "execution_count": 11,
   "metadata": {},
   "outputs": [
    {
     "data": {
      "image/png": "[encoded data removed]",
      "text/plain": [
       "<Figure size 432x288 with 1 Axes>"
      ]
     },
     "metadata": {
      "needs_background": "light"
     },
     "output_type": "display_data"
    }
   ],
   "source": [
    "plt.scatter(joined.index, joined['TideLevel'])\n",
    "plt.xlabel(\"index\")\n",
    "plt.ylabel(\"value\")\n",
    "plt.show()"
   ]
  },
  {
   "cell_type": "code",
   "execution_count": null,
   "metadata": {},
   "outputs": [],
   "source": []
  }
 ],
 "metadata": {
  "kernelspec": {
   "display_name": "Python 3",
   "language": "python",
   "name": "python3"
  },
  "language_info": {
   "codemirror_mode": {
    "name": "ipython",
    "version": 3
   },
   "file_extension": ".py",
   "mimetype": "text/x-python",
   "name": "python",
   "nbconvert_exporter": "python",
   "pygments_lexer": "ipython3",
   "version": "3.7.9"
  }
 },
 "nbformat": 4,
 "nbformat_minor": 4
}
