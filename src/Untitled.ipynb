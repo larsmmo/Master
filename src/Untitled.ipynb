{
 "cells": [
  {
   "cell_type": "code",
   "execution_count": 1,
   "metadata": {},
   "outputs": [],
   "source": [
    "import pandas as pd\n",
    "import matplotlib.pyplot as plt"
   ]
  },
  {
   "cell_type": "code",
   "execution_count": 16,
   "metadata": {},
   "outputs": [],
   "source": [
    "DOinside=pd.read_excel('../data/oksygen/fornes2_excel_oksygen_Sal_330.xlsx', [0,1,2,3,4,5,6,7,8,9,10], usecols = [1,3,5,10,12,17,19,24,26], index_col = 0)\n",
    "DOinside[0].columns = ['P1m3Temp', 'P1m3DO', 'P1m6Temp', 'P1m6DO', 'P1m9Temp', 'P1m9DO', 'P1m12Temp', 'P1m12DO']\n",
    "\n",
    "DOinside[1].columns = ['P4m3Temp', 'P4m3DO', 'P4m6Temp', 'P4m6DO', 'P4m9Temp', 'P4m9DO', 'P1m12Temp', 'P1m12DO']\n",
    "DOinside[1].drop(['P1m12Temp', 'P1m12DO'], axis=1, inplace=True)\n",
    "\n",
    "DOinside[2].columns = ['P5m3Temp', 'P5m3DO', 'P5m6Temp', 'P5m6DO', 'P5m9Temp', 'P5m9DO', 'P1m12Temp', 'P1m12DO']\n",
    "DOinside[2].drop(['P1m12Temp', 'P1m12DO'], axis=1, inplace=True)\n",
    "\n",
    "DOinside[3].columns = ['P6m3Temp', 'P6m3DO', 'P6m6Temp', 'P6m6DO', 'P6m9Temp', 'P6m9DO', 'P1m12Temp', 'P1m12DO']\n",
    "DOinside[3].drop(['P1m12Temp', 'P1m12DO'], axis=1, inplace=True)\n",
    "\n",
    "for key, frame in DOinside.items():\n",
    "    frame.index.name = 'Timestamp'\n",
    "    #frame.rename(columns={'Cat32DisOxySaturated': 'DO32', 'Cat21DisOxySaturated': 'DO21', 'Cat33DisOxySaturated': 'DO33', 'Cat11DisOxySaturated': 'DO11'}, inplace=True)"
   ]
  },
  {
   "cell_type": "code",
   "execution_count": 3,
   "metadata": {},
   "outputs": [],
   "source": [
    "DO58x = pd.read_excel('../data/oksygen/AADI_DO_Fornes_V2.xlsx', 3, usecols = [0,2,3,6,7,10,11], header=1)\n",
    "DO58x.columns = ['Timestamp','NorthDO', 'NorthTemp', 'SouthOutsideDO', 'SouthOutsideTemp', 'SouthDO','SouthTemp']\n",
    "DO58x['Timestamp'] =DO58x['Timestamp'].apply(lambda t: t.replace(second=0))\n",
    "DO58x.set_index('Timestamp', inplace=True)"
   ]
  },
  {
   "cell_type": "code",
   "execution_count": 4,
   "metadata": {},
   "outputs": [],
   "source": [
    "tide = pd.read_excel('../data/oksygen/AADI_DO_Fornes_V2.xlsx', 6, usecols = [0,1], header=0)\n",
    "tide.columns = ['Timestamp','TideLevel']\n",
    "tide['Timestamp'] =tide['Timestamp'].apply(lambda t: t.replace(second=0))\n",
    "tide.set_index('Timestamp', inplace=True)"
   ]
  },
  {
   "cell_type": "code",
   "execution_count": 5,
   "metadata": {},
   "outputs": [],
   "source": [
    "DO31 = pd.read_excel('../data/oksygen/AADI_DO_Fornes_V2.xlsx', 5, usecols = [0,2,4])\n",
    "DO31.columns = ['Timestamp','Temp', 'DO']\n",
    "DO31['Timestamp'] = DO31['Timestamp'].apply(lambda t: t.replace(second=0))\n",
    "DO31.set_index('Timestamp', inplace=True)"
   ]
  },
  {
   "cell_type": "code",
   "execution_count": 17,
   "metadata": {},
   "outputs": [
    {
     "data": {
      "text/html": [
       "<div>\n",
       "<style scoped>\n",
       "    .dataframe tbody tr th:only-of-type {\n",
       "        vertical-align: middle;\n",
       "    }\n",
       "\n",
       "    .dataframe tbody tr th {\n",
       "        vertical-align: top;\n",
       "    }\n",
       "\n",
       "    .dataframe thead th {\n",
       "        text-align: right;\n",
       "    }\n",
       "</style>\n",
       "<table border=\"1\" class=\"dataframe\">\n",
       "  <thead>\n",
       "    <tr style=\"text-align: right;\">\n",
       "      <th></th>\n",
       "      <th>P5m3Temp</th>\n",
       "      <th>P5m3DO</th>\n",
       "      <th>P5m6Temp</th>\n",
       "      <th>P5m6DO</th>\n",
       "      <th>P5m9Temp</th>\n",
       "      <th>P5m9DO</th>\n",
       "    </tr>\n",
       "    <tr>\n",
       "      <th>Timestamp</th>\n",
       "      <th></th>\n",
       "      <th></th>\n",
       "      <th></th>\n",
       "      <th></th>\n",
       "      <th></th>\n",
       "      <th></th>\n",
       "    </tr>\n",
       "  </thead>\n",
       "  <tbody>\n",
       "    <tr>\n",
       "      <th>2019-07-04 11:45:00</th>\n",
       "      <td>10.113</td>\n",
       "      <td>80.406928</td>\n",
       "      <td>10.133</td>\n",
       "      <td>77.840881</td>\n",
       "      <td>10.140</td>\n",
       "      <td>85.346636</td>\n",
       "    </tr>\n",
       "    <tr>\n",
       "      <th>2019-07-04 11:46:00</th>\n",
       "      <td>10.113</td>\n",
       "      <td>79.838430</td>\n",
       "      <td>10.151</td>\n",
       "      <td>78.042756</td>\n",
       "      <td>10.158</td>\n",
       "      <td>82.483907</td>\n",
       "    </tr>\n",
       "    <tr>\n",
       "      <th>2019-07-04 11:47:00</th>\n",
       "      <td>10.140</td>\n",
       "      <td>79.533607</td>\n",
       "      <td>10.133</td>\n",
       "      <td>80.293682</td>\n",
       "      <td>10.149</td>\n",
       "      <td>83.773333</td>\n",
       "    </tr>\n",
       "    <tr>\n",
       "      <th>2019-07-04 11:48:00</th>\n",
       "      <td>10.122</td>\n",
       "      <td>79.979719</td>\n",
       "      <td>10.114</td>\n",
       "      <td>81.306001</td>\n",
       "      <td>10.176</td>\n",
       "      <td>84.404748</td>\n",
       "    </tr>\n",
       "    <tr>\n",
       "      <th>2019-07-04 11:49:00</th>\n",
       "      <td>10.122</td>\n",
       "      <td>80.121874</td>\n",
       "      <td>10.169</td>\n",
       "      <td>85.938506</td>\n",
       "      <td>10.158</td>\n",
       "      <td>85.284945</td>\n",
       "    </tr>\n",
       "  </tbody>\n",
       "</table>\n",
       "</div>"
      ],
      "text/plain": [
       "                     P5m3Temp     P5m3DO  P5m6Temp     P5m6DO  P5m9Temp  \\\n",
       "Timestamp                                                                 \n",
       "2019-07-04 11:45:00    10.113  80.406928    10.133  77.840881    10.140   \n",
       "2019-07-04 11:46:00    10.113  79.838430    10.151  78.042756    10.158   \n",
       "2019-07-04 11:47:00    10.140  79.533607    10.133  80.293682    10.149   \n",
       "2019-07-04 11:48:00    10.122  79.979719    10.114  81.306001    10.176   \n",
       "2019-07-04 11:49:00    10.122  80.121874    10.169  85.938506    10.158   \n",
       "\n",
       "                        P5m9DO  \n",
       "Timestamp                       \n",
       "2019-07-04 11:45:00  85.346636  \n",
       "2019-07-04 11:46:00  82.483907  \n",
       "2019-07-04 11:47:00  83.773333  \n",
       "2019-07-04 11:48:00  84.404748  \n",
       "2019-07-04 11:49:00  85.284945  "
      ]
     },
     "execution_count": 17,
     "metadata": {},
     "output_type": "execute_result"
    }
   ],
   "source": [
    "DOinside[2].head()\n",
    "#DO31.head()\n",
    "#tide.head()\n",
    "#DO58x.head()\n",
    "#df[0].describe()"
   ]
  },
  {
   "cell_type": "code",
   "execution_count": 7,
   "metadata": {},
   "outputs": [
    {
     "ename": "NameError",
     "evalue": "name 'df' is not defined",
     "output_type": "error",
     "traceback": [
      "\u001b[1;31m---------------------------------------------------------------------------\u001b[0m",
      "\u001b[1;31mNameError\u001b[0m                                 Traceback (most recent call last)",
      "\u001b[1;32m<ipython-input-7-8347563345ee>\u001b[0m in \u001b[0;36m<module>\u001b[1;34m\u001b[0m\n\u001b[1;32m----> 1\u001b[1;33m \u001b[1;32mfor\u001b[0m \u001b[0mkey\u001b[0m\u001b[1;33m,\u001b[0m \u001b[0mframe\u001b[0m \u001b[1;32min\u001b[0m \u001b[0mdf\u001b[0m\u001b[1;33m.\u001b[0m\u001b[0mitems\u001b[0m\u001b[1;33m(\u001b[0m\u001b[1;33m)\u001b[0m\u001b[1;33m:\u001b[0m\u001b[1;33m\u001b[0m\u001b[1;33m\u001b[0m\u001b[0m\n\u001b[0m\u001b[0;32m      2\u001b[0m     \u001b[0mframe\u001b[0m\u001b[1;33m.\u001b[0m\u001b[0mplot\u001b[0m\u001b[1;33m(\u001b[0m\u001b[0my\u001b[0m\u001b[1;33m=\u001b[0m\u001b[1;34m'DO31'\u001b[0m\u001b[1;33m)\u001b[0m\u001b[1;33m\u001b[0m\u001b[1;33m\u001b[0m\u001b[0m\n",
      "\u001b[1;31mNameError\u001b[0m: name 'df' is not defined"
     ]
    }
   ],
   "source": [
    "for key, frame in df.items():\n",
    "    frame.plot(y='DO31')"
   ]
  },
  {
   "cell_type": "markdown",
   "metadata": {},
   "source": [
    "Plot of hourly median DO inside and outside of cage."
   ]
  },
  {
   "cell_type": "code",
   "execution_count": null,
   "metadata": {},
   "outputs": [],
   "source": [
    "fig, axes = plt.subplots(nrows=2, ncols = 3)\n",
    "i = 0\n",
    "for key, frame in df.items():\n",
    "    if key == 3:\n",
    "        i = 1\n",
    "    #frame.plot(y='Cat32DisOxySaturated', ax = axes[i,key])"
   ]
  },
  {
   "cell_type": "code",
   "execution_count": null,
   "metadata": {},
   "outputs": [],
   "source": [
    "dfc = pd.concat(df)\n",
    "dfc.columns\n",
    "df[0].boxplot(column=['DO32', 'DO21', 'DO33', 'DO11', 'DO31'])\n",
    "#df[0].boxplot(column=['DO32', 'DO21', 'DO33', 'DO11', 'DO31'])"
   ]
  },
  {
   "cell_type": "code",
   "execution_count": null,
   "metadata": {},
   "outputs": [],
   "source": [
    "DO31.plot(x='Timestamp',y='DO', kind='scatter')"
   ]
  },
  {
   "cell_type": "code",
   "execution_count": null,
   "metadata": {},
   "outputs": [],
   "source": []
  }
 ],
 "metadata": {
  "kernelspec": {
   "display_name": "Python 3",
   "language": "python",
   "name": "python3"
  },
  "language_info": {
   "codemirror_mode": {
    "name": "ipython",
    "version": 3
   },
   "file_extension": ".py",
   "mimetype": "text/x-python",
   "name": "python",
   "nbconvert_exporter": "python",
   "pygments_lexer": "ipython3",
   "version": "3.7.9"
  }
 },
 "nbformat": 4,
 "nbformat_minor": 4
}
