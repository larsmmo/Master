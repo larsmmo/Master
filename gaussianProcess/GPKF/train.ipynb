{
 "cells": [
  {
   "cell_type": "code",
   "execution_count": 9,
   "metadata": {},
   "outputs": [],
   "source": [
    "import numpy as np\n",
    "import pandas as pd\n",
    "\n",
    "from params import Params\n",
    "from gpkf import Gpkf\n",
    "from generateSyntheticData import generateSyntheticData"
   ]
  },
  {
   "cell_type": "code",
   "execution_count": 7,
   "metadata": {},
   "outputs": [],
   "source": [
    "def start_train():\n",
    "    params = Params()\n",
    "    model = Gpkf(params)\n",
    "\n",
    "    #F, Y, noiseVar = generateSyntheticData(params.data)\n",
    "    \n",
    "    F, Y, noiseVar = format_data()\n",
    "\n",
    "    # GPKF estimate\n",
    "    posteriorMean, posteriorCov, logMarginal = model.estimation(Y, noiseVar)\n",
    "\n",
    "    #GPKF prediction\n",
    "    predictedMean, predictedCov = model.prediction(Y, noiseVar)\n",
    "\n",
    "    return model"
   ]
  },
  {
   "cell_type": "code",
   "execution_count": 10,
   "metadata": {},
   "outputs": [
    {
     "name": "stdout",
     "output_type": "stream",
     "text": [
      "1 dim\n",
      "1 dim\n"
     ]
    }
   ],
   "source": [
    "model = start_train()"
   ]
  }
 ],
 "metadata": {
  "kernelspec": {
   "display_name": "Python 3",
   "language": "python",
   "name": "python3"
  },
  "language_info": {
   "codemirror_mode": {
    "name": "ipython",
    "version": 3
   },
   "file_extension": ".py",
   "mimetype": "text/x-python",
   "name": "python",
   "nbconvert_exporter": "python",
   "pygments_lexer": "ipython3",
   "version": "3.7.9"
  }
 },
 "nbformat": 4,
 "nbformat_minor": 4
}
