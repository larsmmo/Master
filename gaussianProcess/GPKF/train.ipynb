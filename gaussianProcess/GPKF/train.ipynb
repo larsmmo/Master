{
 "cells": [
  {
   "cell_type": "code",
   "execution_count": 1,
   "metadata": {},
   "outputs": [],
   "source": [
    "import numpy as np\n",
    "import pandas as pd\n",
    "import matplotlib.pyplot as plt\n",
    "import seaborn as sns\n",
    "import re\n",
    "\n",
    "import importlib\n",
    "import os, sys\n",
    "sys.path.append(os.path.abspath('../../visualization'))\n",
    "from plotters import plot_gp, plot_gpkf, plot_gpkf_space_time\n",
    "from kernel import KernelFactory, Kernel\n",
    "\n",
    "from sklearn import preprocessing\n",
    "from sklearn.model_selection import GridSearchCV\n",
    "\n",
    "from params import Params\n",
    "from gpkf import Gpkf\n",
    "from generateSyntheticData import generateSyntheticData\n",
    "#from plotters import plot_gp, plot_gp_example, plot_residuals"
   ]
  },
  {
   "cell_type": "code",
   "execution_count": 2,
   "metadata": {},
   "outputs": [],
   "source": [
    "df = pd.read_csv('../../data/mergedData.csv')\n",
    "df.set_index('Timestamp', inplace=True)\n",
    "df.index = pd.to_datetime(df.index)\n",
    "df.index = np.around(df.index.to_julian_date() * 24 * 60)\n",
    "df.index = df.index - df.index[0]"
   ]
  },
  {
   "cell_type": "code",
   "execution_count": 3,
   "metadata": {},
   "outputs": [],
   "source": [
    "center_df = df[[col for col in df.columns if 'Pos1' in col and 'DO' in col]] #.dropna(axis = 0, how = 'all')\n",
    "#center_df = df['Pos1m3DO'].dropna(axis=0)\n",
    "#center_df"
   ]
  },
  {
   "cell_type": "code",
   "execution_count": 4,
   "metadata": {},
   "outputs": [],
   "source": [
    "def start_train(df):\n",
    "    locations = np.array([3,6,9,12]).conj().T\n",
    "    params = Params(df, locations, 'fornes')\n",
    "    model = Gpkf(params)\n",
    "\n",
    "    #F, Y, noiseVar = generateSyntheticData(params.data)\n",
    "    print('Formatting data')\n",
    "    \n",
    "    F = df.loc[params.data['timeInstants']].to_numpy().T\n",
    "    Y = df.to_numpy().T[params.data['spaceLocsMeasIdx']]\n",
    "    Y_mean = np.nanmean(Y, axis=0)\n",
    "    Y_std = np.nanstd(Y, axis=0)\n",
    "    Y = (Y - Y_mean) / Y_std\n",
    "    \n",
    "    noiseVar = (params.data['noiseStd'] * np.abs(Y))**2\n",
    "    noiseVar[np.isnan(noiseVar)] = np.inf\n",
    "    noiseVar[Y==0] = params.data['noiseStd']**2\n",
    "    \n",
    "    #F, Y, noiseVar = generateSyntheticData(params.data)\n",
    "    #Y_mean = Y.mean(axis=0)\n",
    "    #Y = (Y - Y.mean(axis=0)) / Y.std(axis=0)\n",
    "    \n",
    "    # Optimize parameters\n",
    "    print('Optimizing parameters (log-marginal)')\n",
    "    model.optimize(Y, noiseVar, params.optimizer_restarts)\n",
    "    \n",
    "    # GPKF estimate\n",
    "    print('GPKF estimation')\n",
    "    posteriorMean, posteriorCov, logMarginal = model.estimation(Y, noiseVar)\n",
    "\n",
    "    #GPKF prediction\n",
    "    print('GPKF prediction')\n",
    "    predictedMean, predictedCov = model.prediction(Y, noiseVar)\n",
    "    \n",
    "    #plot_gpkf(params.data['spaceLocsMeas'], params.data['spaceLocsMeasIdx'], F[:,-1][params.data['spaceLocsMeasIdx']], posteriorMean[:,-1], posteriorCov[:,:,-1])\n",
    "    plot_gpkf(params.data['spaceLocsPred'], [3,6,9,12], F[:,-1], predictedMean[:,-1] + Y_mean[-1], predictedCov[:,:,-1])\n",
    "    #plot_gpkf(np.arange(0, params.data['spaceLocsPredIdx'].size), np.arange(0,params.data['spaceLocsPredIdx'].size), F[:,-1][params.data['spaceLocsPredIdx']], predictedMean[:,-1], predictedCov[:,:,-1])\n",
    "\n",
    "    return model"
   ]
  },
  {
   "cell_type": "code",
   "execution_count": 5,
   "metadata": {},
   "outputs": [
    {
     "name": "stdout",
     "output_type": "stream",
     "text": [
      "Using fornes dataset\n",
      "Formatting data\n"
     ]
    }
   ],
   "source": [
    "#model = start_train(center_df)\n",
    "depthLocations = np.array([3,6,9,12]).conj().T\n",
    "params = Params(center_df, depthLocations, 'fornes')\n",
    "\n",
    "#F, Y, noiseVar = generateSyntheticData(params.data)\n",
    "print('Formatting data')\n",
    "\n",
    "F = center_df.loc[params.data['timeInstants']].to_numpy().T\n",
    "Y = center_df.to_numpy().T[params.data['spaceLocsMeasIdx']]\n",
    "\n",
    "factory = KernelFactory()\n",
    "kernel_time = factory.get_kernel('matern32', {'scale' :12.238893, 'std': 23.9659459, 'frequency':750})\n",
    "kernel_space = factory.get_kernel('gaussian', {'scale' : 0.01 , 'std': 1, 'frequency':750})\n",
    "\n",
    "model = Gpkf(params, Y, kernel_time, kernel_space, normalize_y = True, n_restarts = 0)"
   ]
  },
  {
   "cell_type": "code",
   "execution_count": 6,
   "metadata": {},
   "outputs": [
    {
     "name": "stdout",
     "output_type": "stream",
     "text": [
      "Optimizing parameters (log-marginal)\n"
     ]
    }
   ],
   "source": [
    "# Optimize parameters\n",
    "print('Optimizing parameters (log-marginal)')\n",
    "#model.optimize()\n",
    "#Y_mean = np.nanmean(Y)\n",
    "#Y_mean"
   ]
  },
  {
   "cell_type": "code",
   "execution_count": 7,
   "metadata": {},
   "outputs": [
    {
     "data": {
      "text/plain": [
       "\"# GPKF estimate\\nprint('GPKF estimation')\\nposteriorMean, posteriorCov, logMarginal = model.estimation(prediction= False)\\n\\n#GPKF prediction\\nprint('GPKF prediction')\\npredictedMean, predictedCov = model.prediction()\""
      ]
     },
     "execution_count": 7,
     "metadata": {},
     "output_type": "execute_result"
    }
   ],
   "source": [
    "\"\"\"# GPKF estimate\n",
    "print('GPKF estimation')\n",
    "posteriorMean, posteriorCov, logMarginal = model.estimation(prediction= False)\n",
    "\n",
    "#GPKF prediction\n",
    "print('GPKF prediction')\n",
    "predictedMean, predictedCov = model.prediction()\"\"\""
   ]
  },
  {
   "cell_type": "code",
   "execution_count": 8,
   "metadata": {},
   "outputs": [
    {
     "data": {
      "text/plain": [
       "\"\\nplot_gpkf_space_time(params, F, posteriorMean, posteriorCov, predictedMean, predictedCov, 1000, 7)\\nplt.savefig('test'+'.png')\\nsamples = np.random.multivariate_normal(posteriorMean[0,:].ravel(), posteriorCov[0,:,:], 1)\\nplot_gpkf(params.data['TimeInstants'], [], [], posteriorMean[0, :], posteriorCov[0,0,:], samples=samples)\""
      ]
     },
     "execution_count": 8,
     "metadata": {},
     "output_type": "execute_result"
    }
   ],
   "source": [
    "\"\"\"\n",
    "plot_gpkf_space_time(params, F, posteriorMean, posteriorCov, predictedMean, predictedCov, 1000, 7)\n",
    "plt.savefig('test'+'.png')\n",
    "samples = np.random.multivariate_normal(posteriorMean[0,:].ravel(), posteriorCov[0,:,:], 1)\n",
    "plot_gpkf(params.data['TimeInstants'], [], [], posteriorMean[0, :], posteriorCov[0,0,:], samples=samples)\"\"\""
   ]
  },
  {
   "cell_type": "markdown",
   "metadata": {},
   "source": [
    "# 3D"
   ]
  },
  {
   "cell_type": "code",
   "execution_count": 181,
   "metadata": {},
   "outputs": [],
   "source": [
    "df_do = df[[col for col in df.columns if 'DO' in col]].dropna(axis = 0, how = 'all')\n",
    "locations = df_do.iloc[0]\n",
    "locations = locations.astype('object')\n",
    "center = 30\n",
    "for col in locations.index:\n",
    "    depth = int(re.search('m\\d+', col).group()[1:])  # Get sensor depth\n",
    "    if 'Pos1' in col:\n",
    "        locations[col] = np.array([center, depth, center])\n",
    "    elif 'Pos4' in col:\n",
    "        locations[col] = np.array([center +21, depth, center])\n",
    "    elif 'Pos5' in col:\n",
    "        locations[col] = np.array([center, depth, center+21])\n",
    "    elif 'Pos6' in col:\n",
    "        locations[col] = np.array([center - 21, depth, center])\n",
    "    elif 'Pos7' in col:\n",
    "        locations[col] = np.array([center, depth, center-21])\n",
    "    elif 'Pos12' in col:\n",
    "        locations[col] = np.array([center, depth, center])\n",
    "    elif 'Pos21' in col:\n",
    "        locations[col] = np.array([center-20, depth, center])\n",
    "    elif 'Pos22' in col:\n",
    "        locations[col] = np.array([center-27, depth, center])\n",
    "    elif 'Pos23' in col:\n",
    "        locations[col] = np.array([center-21, depth, center])\n",
    "    elif 'Pos31' in col:\n",
    "        locations[col] = np.array([center + 2, depth, center + 20])\n",
    "    elif 'Pos32' in col:\n",
    "        locations[col] = np.array([center, depth, center+27])\n",
    "    elif col == 'Outsidem3DO':\n",
    "        locations[col] = np.array([center-30, depth, center])\n",
    "    elif col =='SouthOutsidem3DO':\n",
    "        locations[col] = np.array([center, depth, center+27])\n",
    "    elif col =='Northm3DO':\n",
    "        locations[col] = np.array([center, depth, center+19])\n",
    "    elif col =='Southm3DO':\n",
    "        locations[col] = np.array([center, depth, center-19])\n",
    "        \n",
    "# Symmetric standardization of location inputs\n",
    "locations_values = np.stack(locations.values)\n",
    "scaler = preprocessing.StandardScaler().fit(locations_values)\n",
    "locations_values = scaler.transform(locations_values)\n",
    "\n",
    "#xx, yy, zz = np.meshgrid(np.arange(0,66,6), 3, np.arange(0,66,6))\n",
    "#xx, yy, zz = np.meshgrid(30, np.arange(1,14,1), 30)\n",
    "xx, yy, zz = np.meshgrid(center, 3, np.arange(0,60,1))\n",
    "locations_pred = scaler.transform(np.column_stack([xx.flatten(), yy.flatten(), zz.flatten()]))"
   ]
  },
  {
   "cell_type": "code",
   "execution_count": 237,
   "metadata": {},
   "outputs": [
    {
     "name": "stdout",
     "output_type": "stream",
     "text": [
      "Using fornes dataset\n",
      "Formatting data\n",
      "Initializing Model\n"
     ]
    }
   ],
   "source": [
    "params = Params(df_do, locations_values, 'fornes')\n",
    "\n",
    "print('Formatting data')\n",
    "\n",
    "F = df_do.loc[params.data['timeInstants']].to_numpy().T\n",
    "Y = df_do.to_numpy().T[params.data['spaceLocsMeasIdx']]\n",
    "\n",
    "print('Initializing Model')\n",
    "# create time kernel\n",
    "factory = KernelFactory()\n",
    "#kernel_time = factory.get_kernel('matern32', {'scale' : 0.01, 'std': 0.1, 'frequency':750}) # 0.6 and 0.0001\n",
    "kernel_time = factory.get_kernel('matern32', {'scale' :12.638893, 'std': 13.19, 'frequency':750})\n",
    "\n",
    "# create space kernel\n",
    "kernel_space = factory.get_kernel('gaussian', {'scale' : 8.57 , 'std': 0.14, 'frequency':750})\n",
    "#kernel_space = factory.get_kernel('gaussian', {'scale' : 0.01 , 'std': 1, 'frequency':750})\n",
    "model = Gpkf(params, Y, kernel_time, kernel_space, normalize_y = True, n_restarts = 0)"
   ]
  },
  {
   "cell_type": "code",
   "execution_count": 55,
   "metadata": {},
   "outputs": [
    {
     "data": {
      "text/plain": [
       "array([30,  3, 30])"
      ]
     },
     "execution_count": 55,
     "metadata": {},
     "output_type": "execute_result"
    }
   ],
   "source": [
    "#model.optimize()\n",
    "locations.values[0]"
   ]
  },
  {
   "cell_type": "code",
   "execution_count": 238,
   "metadata": {},
   "outputs": [
    {
     "name": "stdout",
     "output_type": "stream",
     "text": [
      "GPKF prediction\n"
     ]
    },
    {
     "name": "stderr",
     "output_type": "stream",
     "text": [
      "C:\\Users\\moesk\\Documents\\Masteroppgave\\gaussianProcess\\GPKF\\gpkf.py:259: FutureWarning: `rcond` parameter will change to the default of machine precision times ``max(M, N)`` where M and N are the input matrix dimensions.\n",
      "To use the future default and silence this warning we advise to pass `rcond=None`, to keep using the old, explicitly pass `rcond=-1`.\n",
      "  l2 = innovation.conj().T @ np.linalg.lstsq(innovVar, innovation)[0]\n"
     ]
    },
    {
     "name": "stdout",
     "output_type": "stream",
     "text": [
      "[56810.08725729]\n",
      "Time kernel: {'scale': 12.638893, 'std': 13.19, 'frequency': 750}\n",
      "Space kernel: {'scale': 8.57, 'std': 0.14, 'frequency': 750}\n"
     ]
    }
   ],
   "source": [
    "# GPKF estimate\n",
    "#print('GPKF estimation')\n",
    "#posteriorMean, posteriorCov, logMarginal = model.estimation(prediction= False)\n",
    "\n",
    "#GPKF prediction\n",
    "print('GPKF prediction')\n",
    "predictedMean, predictedCov = model.prediction(locations_pred)\n",
    "\n",
    "print(model)"
   ]
  },
  {
   "cell_type": "code",
   "execution_count": 239,
   "metadata": {},
   "outputs": [
    {
     "data": {
      "image/png": "[encoded data removed]",
      "text/plain": [
       "<Figure size 432x288 with 1 Axes>"
      ]
     },
     "metadata": {
      "needs_background": "light"
     },
     "output_type": "display_data"
    }
   ],
   "source": [
    "centerLocs = locations_values[:4]\n",
    "timeStamp = 1000\n",
    "#plot_gpkf(np.arange(1,14,1), np.array([3,6,9,12]), Y[:4, timeStamp], predictedMean[:,timeStamp], predictedCov[:,:,timeStamp], **{'linestyle' : 'None', 'marker': 'x'})\n",
    "\n",
    "midLoc = np.array([i for i in locations.values if i[1] == 3 and i[0] ==center])\n",
    "midLocIdx = np.array([i for loc in scaler.transform(midLoc) for i, v in enumerate(locations_values) if (v==loc).all()])\n",
    "plot_gpkf(np.arange(0,60,1), midLoc[:,2], Y[midLocIdx, timeStamp], predictedMean[:,timeStamp], predictedCov[:,:,timeStamp], **{'linestyle' : 'None', 'marker': 'x'})"
   ]
  },
  {
   "cell_type": "code",
   "execution_count": 189,
   "metadata": {},
   "outputs": [
    {
     "data": {
      "text/plain": [
       "array([[30,  3, 30],\n",
       "       [30,  3, 51],\n",
       "       [30,  3,  9],\n",
       "       [30,  3, 57],\n",
       "       [30,  3, 11],\n",
       "       [30,  3, 49]])"
      ]
     },
     "execution_count": 189,
     "metadata": {},
     "output_type": "execute_result"
    }
   ],
   "source": [
    "Y[midLocIdx, timeStamp]\n",
    "midLoc"
   ]
  },
  {
   "cell_type": "code",
   "execution_count": null,
   "metadata": {},
   "outputs": [],
   "source": [
    "X = np.ones((22, 3)) * 30\n",
    "X[:,0] = np.linspace(0,60, 60)\n",
    "X[:,1] = 3\n",
    "number_of_functions = 1\n",
    "\n",
    "sig = kernel_space.sampled(X, X)\n",
    "mu = np.zeros(22) * 10\n",
    "print(posteriorMean.shape)\n",
    "samp = np.random.multivariate_normal(posteriorMean[:,1000].ravel(), posteriorCov[:,:,1000], number_of_functions)\n",
    "\n",
    "ax = sns.heatmap(samp, xticklabels=1, yticklabels = 1, cmap='viridis', cbar_kws=dict(pad=0.01, aspect=10))\n",
    "\n",
    "plt.figure(figsize=(6, 4), dpi=100)\n",
    "for i in range(number_of_functions):\n",
    "    plt.plot(X[:,0], samp[i], linestyle='-', marker='o', markersize=3)\n",
    "plt.axhline(y=0.0, color='black', linestyle='-')\n",
    "plt.xlabel('$x$', fontsize=13)\n",
    "plt.ylabel('$y = f(x)$', fontsize=13)"
   ]
  },
  {
   "cell_type": "code",
   "execution_count": null,
   "metadata": {},
   "outputs": [],
   "source": [
    "posteriorCov[:,:,1000].ravel().shape\n",
    "posteriorMean[:,1000]"
   ]
  },
  {
   "cell_type": "code",
   "execution_count": null,
   "metadata": {},
   "outputs": [],
   "source": [
    "m3Indexes = np.array([key for key, value in enumerate(locations.values) if value[1]==3])\n",
    "m3Pos = np.array([value[[0,2]] for key, value in enumerate(locations.values) if value[1]==3])\n",
    "vals = np.zeros(shape=(11,11))\n",
    "for key,value in enumerate(params.data['spaceLocsPred']):\n",
    "    vals[int(value[0]/6),int(value[2]/6)] = predictedMean[key,2500]\n",
    "\n",
    "ax = sns.heatmap(vals, xticklabels=1, yticklabels = 1, cmap='viridis', cbar_kws=dict(pad=0.01, aspect=10))\n",
    "ax.invert_yaxis()"
   ]
  },
  {
   "cell_type": "code",
   "execution_count": null,
   "metadata": {},
   "outputs": [],
   "source": [
    "fig = plt.figure()\n",
    "ax = fig.gca(projection='3d')\n",
    "xx, yy = np.meshgrid(np.arange(0,11), np.arange(0,11))\n",
    "ax.plot_surface(xx, yy, vals, cmap='viridis',\n",
    "                       linewidth=0, antialiased=False)"
   ]
  },
  {
   "cell_type": "code",
   "execution_count": null,
   "metadata": {},
   "outputs": [],
   "source": [
    "predictedMean[:,1000]\n",
    "#params.data['spaceLocsMeas']"
   ]
  }
 ],
 "metadata": {
  "kernelspec": {
   "display_name": "Python 3",
   "language": "python",
   "name": "python3"
  },
  "language_info": {
   "codemirror_mode": {
    "name": "ipython",
    "version": 3
   },
   "file_extension": ".py",
   "mimetype": "text/x-python",
   "name": "python",
   "nbconvert_exporter": "python",
   "pygments_lexer": "ipython3",
   "version": "3.7.9"
  }
 },
 "nbformat": 4,
 "nbformat_minor": 4
}
