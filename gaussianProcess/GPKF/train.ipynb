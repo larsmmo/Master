{
 "cells": [
  {
   "cell_type": "code",
   "execution_count": 1,
   "metadata": {},
   "outputs": [],
   "source": [
    "import numpy as np\n",
    "import pandas as pd\n",
    "import matplotlib.pyplot as plt\n",
    "\n",
    "import os, sys\n",
    "sys.path.append(os.path.abspath('../../visualization'))\n",
    "from plotters import plot_gp, plot_gpkf, plot_gpkf_space_time\n",
    "\n",
    "from sklearn import preprocessing\n",
    "\n",
    "from params import Params\n",
    "from gpkf import Gpkf\n",
    "from generateSyntheticData import generateSyntheticData\n",
    "#from plotters import plot_gp, plot_gp_example, plot_residuals"
   ]
  },
  {
   "cell_type": "code",
   "execution_count": 2,
   "metadata": {},
   "outputs": [],
   "source": [
    "df = pd.read_csv('../../data/mergedData.csv')\n",
    "df.set_index('Timestamp', inplace=True)\n",
    "df.index = pd.to_datetime(df.index)\n",
    "df.index = np.around(df.index.to_julian_date() * 24 * 60)\n",
    "df.index = df.index - df.index[0]"
   ]
  },
  {
   "cell_type": "code",
   "execution_count": 3,
   "metadata": {},
   "outputs": [],
   "source": [
    "center_df = df[[col for col in df.columns if 'Pos1' in col and 'DO' in col]].dropna(axis = 0, how = 'all')\n",
    "#center_df = df['Pos1m3DO'].dropna(axis=0)\n",
    "#center_df"
   ]
  },
  {
   "cell_type": "code",
   "execution_count": 4,
   "metadata": {},
   "outputs": [],
   "source": [
    "def start_train(df):\n",
    "    params = Params(df, 'fornes')\n",
    "    model = Gpkf(params)\n",
    "\n",
    "    #F, Y, noiseVar = generateSyntheticData(params.data)\n",
    "    print('Formatting data')\n",
    "    \n",
    "    F = df.loc[params.data['timeInstants']].to_numpy().T\n",
    "    Y = df.to_numpy().T[params.data['spaceLocsMeasIdx']]\n",
    "    Y_mean = np.nanmean(Y, axis=0)\n",
    "    Y_std = np.nanstd(Y, axis=0)\n",
    "    Y = (Y - Y_mean) / Y_std\n",
    "    \n",
    "    noiseVar = (params.data['noiseStd'] * np.abs(Y))**2\n",
    "    noiseVar[np.isnan(noiseVar)] = np.inf\n",
    "    noiseVar[Y==0] = params.data['noiseStd']**2\n",
    "    \n",
    "    #F, Y, noiseVar = generateSyntheticData(params.data)\n",
    "    #Y_mean = Y.mean(axis=0)\n",
    "    #Y = (Y - Y.mean(axis=0)) / Y.std(axis=0)\n",
    "    \n",
    "    # Optimize parameters\n",
    "    print('Optimizing parameters (log-marginal)')\n",
    "    model.optimize(Y, noiseVar, params.optimizer_restarts)\n",
    "    \n",
    "    # GPKF estimate\n",
    "    print('GPKF estimation')\n",
    "    posteriorMean, posteriorCov, logMarginal = model.estimation(Y, noiseVar)\n",
    "\n",
    "    #GPKF prediction\n",
    "    print('GPKF prediction')\n",
    "    predictedMean, predictedCov = model.prediction(Y, noiseVar)\n",
    "    \n",
    "    #plot_gpkf(params.data['spaceLocsMeas'], params.data['spaceLocsMeasIdx'], F[:,-1][params.data['spaceLocsMeasIdx']], posteriorMean[:,-1], posteriorCov[:,:,-1])\n",
    "    plot_gpkf(params.data['spaceLocsPred'], [3,6,9,12], F[:,-1], predictedMean[:,-1] + Y_mean[-1], predictedCov[:,:,-1])\n",
    "    #plot_gpkf(np.arange(0, params.data['spaceLocsPredIdx'].size), np.arange(0,params.data['spaceLocsPredIdx'].size), F[:,-1][params.data['spaceLocsPredIdx']], predictedMean[:,-1], predictedCov[:,:,-1])\n",
    "\n",
    "    return model"
   ]
  },
  {
   "cell_type": "code",
   "execution_count": 5,
   "metadata": {},
   "outputs": [
    {
     "name": "stdout",
     "output_type": "stream",
     "text": [
      "Using fornes dataset\n",
      "Formatting data\n"
     ]
    }
   ],
   "source": [
    "#model = start_train(center_df)\n",
    "params = Params(center_df, 'fornes')\n",
    "\n",
    "#F, Y, noiseVar = generateSyntheticData(params.data)\n",
    "print('Formatting data')\n",
    "\n",
    "F = center_df.loc[params.data['timeInstants']].to_numpy().T\n",
    "Y = center_df.to_numpy().T[params.data['spaceLocsMeasIdx']]\n",
    "Y_mean = np.nanmean(Y, axis=0)\n",
    "Y_std = np.nanstd(Y, axis=0)\n",
    "Y = (Y - Y_mean) / Y_std\n",
    "#Y = preprocessing.scale(Y)\n",
    "\n",
    "noiseVar = (params.data['noiseStd'] * np.abs(Y))**2\n",
    "noiseVar[np.isnan(noiseVar)] = np.inf\n",
    "noiseVar[Y==0] = params.data['noiseStd']**2\n",
    "\n",
    "model = Gpkf(params, Y)"
   ]
  },
  {
   "cell_type": "code",
   "execution_count": 6,
   "metadata": {},
   "outputs": [
    {
     "name": "stdout",
     "output_type": "stream",
     "text": [
      "Optimizing parameters (log-marginal)\n"
     ]
    }
   ],
   "source": [
    "# Optimize parameters\n",
    "print('Optimizing parameters (log-marginal)')\n",
    "#model.optimize(Y, noiseVar, params.optimizer_restarts)"
   ]
  },
  {
   "cell_type": "code",
   "execution_count": 7,
   "metadata": {},
   "outputs": [
    {
     "name": "stdout",
     "output_type": "stream",
     "text": [
      "GPKF estimation\n"
     ]
    },
    {
     "ename": "TypeError",
     "evalue": "estimation() takes 2 positional arguments but 3 were given",
     "output_type": "error",
     "traceback": [
      "\u001b[1;31m---------------------------------------------------------------------------\u001b[0m",
      "\u001b[1;31mTypeError\u001b[0m                                 Traceback (most recent call last)",
      "\u001b[1;32m<ipython-input-7-e447d120d298>\u001b[0m in \u001b[0;36m<module>\u001b[1;34m\u001b[0m\n\u001b[0;32m      1\u001b[0m \u001b[1;31m# GPKF estimate\u001b[0m\u001b[1;33m\u001b[0m\u001b[1;33m\u001b[0m\u001b[1;33m\u001b[0m\u001b[0m\n\u001b[0;32m      2\u001b[0m \u001b[0mprint\u001b[0m\u001b[1;33m(\u001b[0m\u001b[1;34m'GPKF estimation'\u001b[0m\u001b[1;33m)\u001b[0m\u001b[1;33m\u001b[0m\u001b[1;33m\u001b[0m\u001b[0m\n\u001b[1;32m----> 3\u001b[1;33m \u001b[0mposteriorMean\u001b[0m\u001b[1;33m,\u001b[0m \u001b[0mposteriorCov\u001b[0m\u001b[1;33m,\u001b[0m \u001b[0mlogMarginal\u001b[0m \u001b[1;33m=\u001b[0m \u001b[0mmodel\u001b[0m\u001b[1;33m.\u001b[0m\u001b[0mestimation\u001b[0m\u001b[1;33m(\u001b[0m\u001b[0mY\u001b[0m\u001b[1;33m,\u001b[0m \u001b[0mnoiseVar\u001b[0m\u001b[1;33m)\u001b[0m\u001b[1;33m\u001b[0m\u001b[1;33m\u001b[0m\u001b[0m\n\u001b[0m\u001b[0;32m      4\u001b[0m \u001b[1;33m\u001b[0m\u001b[0m\n\u001b[0;32m      5\u001b[0m \u001b[1;31m#GPKF prediction\u001b[0m\u001b[1;33m\u001b[0m\u001b[1;33m\u001b[0m\u001b[1;33m\u001b[0m\u001b[0m\n",
      "\u001b[1;31mTypeError\u001b[0m: estimation() takes 2 positional arguments but 3 were given"
     ]
    }
   ],
   "source": [
    "# GPKF estimate\n",
    "print('GPKF estimation')\n",
    "posteriorMean, posteriorCov, logMarginal = model.estimation(noiseVar)\n",
    "\n",
    "#GPKF prediction\n",
    "print('GPKF prediction')\n",
    "predictedMean, predictedCov = model.prediction(noiseVar)\n",
    "\n",
    "# Undo normalization\n",
    "posteriorMean = Y_std * posteriorMean + Y_mean\n",
    "posteriorCov = posteriorCov * Y_std**2\n",
    "predictedMean = Y_std * predictedMean + Y_mean\n",
    "predictedCov = predictedCov * Y_std**2"
   ]
  },
  {
   "cell_type": "code",
   "execution_count": null,
   "metadata": {},
   "outputs": [],
   "source": [
    "plot_gpkf_space_time(params, F, posteriorMean, posteriorCov, predictedMean, predictedCov, 490, [2])"
   ]
  }
 ],
 "metadata": {
  "kernelspec": {
   "display_name": "Python 3",
   "language": "python",
   "name": "python3"
  },
  "language_info": {
   "codemirror_mode": {
    "name": "ipython",
    "version": 3
   },
   "file_extension": ".py",
   "mimetype": "text/x-python",
   "name": "python",
   "nbconvert_exporter": "python",
   "pygments_lexer": "ipython3",
   "version": "3.7.9"
  }
 },
 "nbformat": 4,
 "nbformat_minor": 4
}
