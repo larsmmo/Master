{
 "cells": [
  {
   "cell_type": "markdown",
   "metadata": {},
   "source": [
    "# Visualization notebook for GP experiments and learning"
   ]
  },
  {
   "cell_type": "code",
   "execution_count": 1,
   "metadata": {},
   "outputs": [],
   "source": [
    "import sys\n",
    "import os\n",
    "import numpy as np\n",
    "from numpy.linalg import multi_dot, lstsq\n",
    "import pandas as pd\n",
    "import seaborn as sns\n",
    "import matplotlib.pyplot as plt\n",
    "import re\n",
    "\n",
    "from sklearn.preprocessing import normalize\n",
    "from sklearn.gaussian_process import GaussianProcessRegressor\n",
    "from sklearn.gaussian_process.kernels import RBF, ConstantKernel, Matern, WhiteKernel, ExpSineSquared\n",
    "from sklearn.model_selection import train_test_split\n",
    "from sklearn.metrics import mean_squared_error, mean_absolute_error, log_loss, r2_score\n",
    "\n",
    "from scipy.linalg import expm, solve_continuous_lyapunov\n",
    "\n",
    "import GPy\n",
    "\n",
    "#from skgstat import Variogram\n",
    "\n",
    "from joblib import dump, load\n",
    "\n",
    "#Libraries for checkpoints during training\n",
    "#from skopt import callbacks\n",
    "#from skopt.callbacks import CheckpointSaver\n",
    "\n",
    "from plotters import plot_gp, plot_gp_example, plot_residuals"
   ]
  },
  {
   "cell_type": "code",
   "execution_count": 2,
   "metadata": {},
   "outputs": [],
   "source": [
    "def print_metrics(y_true, y_pred):\n",
    "    \"\"\"\n",
    "    INPUT:\n",
    "        y_true: the true measurements\n",
    "        y_pred: the predicted measurements\n",
    "\n",
    "    OUTPUT: \n",
    "        MSE, RMSE, R2\n",
    "    \"\"\"\n",
    "    print('---------------------------\\n')\n",
    "    print('Metrics: \\n')\n",
    "    print('MAE: ' + str(mean_absolute_error(y_true, y_pred)))\n",
    "    print('MSE: ' + str(mean_squared_error(y_true, y_pred, squared = False)))\n",
    "    print('RMSE: ' + str(mean_squared_error(y_true, y_pred, squared = True)))\n",
    "    print('R2: ' + str(r2_score(y_true, y_pred)) +'\\n')\n",
    "    print('---------------------------\\n')"
   ]
  },
  {
   "cell_type": "code",
   "execution_count": 3,
   "metadata": {},
   "outputs": [],
   "source": [
    "def plot_gpr_samples(gpr_model, n_samples, ax):\n",
    "    \"\"\"Plot samples drawn from the Gaussian process model.\n",
    "\n",
    "    If the Gaussian process model is not trained then the drawn samples are\n",
    "    drawn from the prior distribution. Otherwise, the samples are drawn from\n",
    "    the posterior distribution. Be aware that a sample here corresponds to a\n",
    "    function.\n",
    "\n",
    "    Parameters\n",
    "    ----------\n",
    "    gpr_model : `GaussianProcessRegressor`\n",
    "        A :class:`~sklearn.gaussian_process.GaussianProcessRegressor` model.\n",
    "    n_samples : int\n",
    "        The number of samples to draw from the Gaussian process distribution.\n",
    "    ax : matplotlib axis\n",
    "        The matplotlib axis where to plot the samples.\n",
    "    \"\"\"\n",
    "    x = np.linspace(0, 50, 1000)\n",
    "    X = x.reshape(-1, 1)\n",
    "\n",
    "    y_mean, y_std = gpr_model.predict(X, return_std=True)\n",
    "    y_samples = gpr_model.sample_y(X, n_samples)\n",
    "\n",
    "    for idx, single_prior in enumerate(y_samples.T):\n",
    "        ax.plot(\n",
    "            x,\n",
    "            single_prior,\n",
    "            linestyle=\"--\",\n",
    "            alpha=0.7,\n",
    "            label=f\"Sampled function #{idx + 1}\",\n",
    "        )\n",
    "    ax.plot(x, y_mean, color=\"black\", label=\"Mean\")\n",
    "    ax.fill_between(\n",
    "        x,\n",
    "        y_mean - y_std,\n",
    "        y_mean + y_std,\n",
    "        alpha=0.1,\n",
    "        color=\"black\",\n",
    "        label=r\"$\\pm$ 1 std. dev.\",\n",
    "    )\n",
    "    ax.set_xlabel(\"x\")\n",
    "    ax.set_ylabel(\"y\")\n",
    "    #ax.set_ylim([-3, 3])"
   ]
  },
  {
   "cell_type": "code",
   "execution_count": 4,
   "metadata": {},
   "outputs": [
    {
     "ename": "NameError",
     "evalue": "name 'CheckpointSaver' is not defined",
     "output_type": "error",
     "traceback": [
      "\u001b[1;31m---------------------------------------------------------------------------\u001b[0m",
      "\u001b[1;31mNameError\u001b[0m                                 Traceback (most recent call last)",
      "\u001b[1;32m<ipython-input-4-9515b9bd9a9f>\u001b[0m in \u001b[0;36m<module>\u001b[1;34m\u001b[0m\n\u001b[1;32m----> 1\u001b[1;33m \u001b[0mcheckpoint_saver\u001b[0m \u001b[1;33m=\u001b[0m \u001b[0mCheckpointSaver\u001b[0m\u001b[1;33m(\u001b[0m\u001b[1;34m\"./checkpoint.pkl\"\u001b[0m\u001b[1;33m,\u001b[0m \u001b[0mcompress\u001b[0m\u001b[1;33m=\u001b[0m\u001b[1;36m9\u001b[0m\u001b[1;33m)\u001b[0m \u001b[1;31m# keyword arguments will be passed to `skopt.dump`\u001b[0m\u001b[1;33m\u001b[0m\u001b[1;33m\u001b[0m\u001b[0m\n\u001b[0m",
      "\u001b[1;31mNameError\u001b[0m: name 'CheckpointSaver' is not defined"
     ]
    }
   ],
   "source": [
    "checkpoint_saver = CheckpointSaver(\"./checkpoint.pkl\", compress=9) # keyword arguments will be passed to `skopt.dump`"
   ]
  },
  {
   "cell_type": "markdown",
   "metadata": {},
   "source": [
    "# Short example visualization"
   ]
  },
  {
   "cell_type": "code",
   "execution_count": null,
   "metadata": {},
   "outputs": [],
   "source": [
    "def f(x):\n",
    "    \"\"\"The function to predict.\"\"\"\n",
    "    return x * np.sin(x)\n",
    "\n",
    "# ----------------------------------------------------------------------\n",
    "#  First the noiseless case\n",
    "X = np.atleast_2d([1., 3., 5., 6., 7., 8.]).T\n",
    "\n",
    "# Observations\n",
    "y1 = f(X).ravel()\n",
    "dy = 0.5 + 1.0 * np.random.random(y1.shape)\n",
    "noise = np.random.normal(0, dy)\n",
    "y1 += noise\n",
    "\n",
    "# Instantiate a Gaussian Process model\n",
    "kernel = ConstantKernel(400) * ExpSineSquared(2, 3.0)# *RBF(1, (1e-2, 1e2))\n",
    "gp = GaussianProcessRegressor(kernel=kernel, n_restarts_optimizer=9)\n",
    "\n",
    "# Mesh the input space for evaluations of the real function, the prediction and\n",
    "# its MSE\n",
    "x = np.atleast_2d(np.linspace(0, 10, 1000)).T\n",
    "# Fit to data using Maximum Likelihood Estimation of the parameters\n",
    "#gp.fit(X, y1)\n",
    "\n",
    "# Make the prediction on the meshed x-axis (ask for MSE as well)\n",
    "y_pred, sigma = gp.predict(x, return_std=True)"
   ]
  },
  {
   "cell_type": "code",
   "execution_count": null,
   "metadata": {},
   "outputs": [],
   "source": [
    "fig, axs = plt.subplots(nrows=2, sharex=True, sharey=True, figsize=(10, 8))\n",
    "plot_gpr_samples(gp, n_samples=5, ax=axs[0])\n",
    "gp.fit(X, y1)\n",
    "plot_gpr_samples(gp, n_samples=2, ax=axs[1])"
   ]
  },
  {
   "cell_type": "code",
   "execution_count": null,
   "metadata": {},
   "outputs": [],
   "source": [
    "kern = ExpSineSquared(1.0,1.0)\n",
    "Xs = np.arange(0, 10).reshape(-1,1)\n",
    "ys = np.random.multivariate_normal(mean = np.zeros(Xs.shape[0]), cov = kern(Xs), size = 1)"
   ]
  },
  {
   "cell_type": "code",
   "execution_count": null,
   "metadata": {},
   "outputs": [],
   "source": [
    "plot_gp_example(x, X, y1, y_pred, sigma)"
   ]
  },
  {
   "cell_type": "markdown",
   "metadata": {},
   "source": [
    "# Simple time series"
   ]
  },
  {
   "cell_type": "code",
   "execution_count": 5,
   "metadata": {},
   "outputs": [],
   "source": [
    "df = pd.read_csv('../data/mergedData.csv')\n",
    "df.set_index('Timestamp', inplace=True)\n",
    "df.index = pd.to_datetime(df.index)\n",
    "df.index = df.index.to_julian_date()\n",
    "df[\"Timestamp\"] = df.index\n",
    "#df.index = (df.index-df.index.min())/(df.index.max()-df.index.min())"
   ]
  },
  {
   "cell_type": "code",
   "execution_count": null,
   "metadata": {},
   "outputs": [],
   "source": []
  },
  {
   "cell_type": "code",
   "execution_count": 9,
   "metadata": {},
   "outputs": [],
   "source": [
    "pos1m3DO = df.loc[:,'Pos1m3DO'].dropna().iloc[:1500]"
   ]
  },
  {
   "cell_type": "code",
   "execution_count": 10,
   "metadata": {},
   "outputs": [],
   "source": [
    "# List of dates for prediction, 1 minute interval\n",
    "X_train, X_test, y_train, y_test = train_test_split(pos1m3DO.index.values, pos1m3DO.values , test_size=0.3)\n",
    "\n",
    "# Specify a range (mesh) for prediction\n",
    "predictionRange = np.arange(\n",
    "        '2019-07-02T16:00:00.0000000',\n",
    "        '2019-07-06T00:00:00.0000000',\n",
    "        np.timedelta64(1, 'm'),\n",
    "        dtype='datetime64'\n",
    "    )\n",
    "\n",
    "# Format inputs\n",
    "X_train = X_train.reshape(len(X_train), 1)\n",
    "X_test = X_test.reshape(len(X_test), 1)\n",
    "#prediction_timerange = np.append(X_train, X_test)\n",
    "prediction_timerange = pos1m3DO.index.values\n",
    "prediction_timerange = prediction_timerange.reshape(len(prediction_timerange), 1)\n",
    "\n",
    "predictionRange = pd.to_datetime(predictionRange).to_julian_date().values\n",
    "julian_minute = predictionRange[1] - predictionRange[0]\n",
    "#predictionRange = predictionRange.reshape(len(predictionRange), 1)\n"
   ]
  },
  {
   "cell_type": "code",
   "execution_count": 11,
   "metadata": {},
   "outputs": [],
   "source": [
    "#kernel = Matern(length_scale=1.0, nu=1.0)\n",
    "#kernel = ConstantKernel(1.0) * RBF(length_scale=1.0) + WhiteKernel(1.0)\n",
    "\n",
    "#matern=ConstantKernel(1.0, (1e-3, 1e3)) * Matern(length_scale=[10,10], length_scale_bounds=(1e-05, 100000.0), nu=2.5)\n",
    "#matern= ConstantKernel(1.0, (1e-3, 1e3)) * RBF(length_scale=10, length_scale_bounds=(1e-05, 1e6)) + WhiteKernel(noise_level=0.5)\n",
    "matern = ConstantKernel(1.0, (1e-3, 1e3)) *ExpSineSquared(length_scale = 10, periodicity= (julian_minute * 745))\n",
    "#ExpSineSquared(lenght_scale = )\n",
    "gpr = GaussianProcessRegressor(\n",
    "    kernel=matern, \n",
    "    n_restarts_optimizer=20, \n",
    "    normalize_y=True,\n",
    "    alpha=0.05\n",
    ")"
   ]
  },
  {
   "cell_type": "code",
   "execution_count": 12,
   "metadata": {},
   "outputs": [
    {
     "name": "stdout",
     "output_type": "stream",
     "text": [
      "(3994,)\n"
     ]
    },
    {
     "data": {
      "image/png": "[encoded data removed]",
      "text/plain": [
       "<Figure size 1152x864 with 1 Axes>"
      ]
     },
     "metadata": {
      "needs_background": "light"
     },
     "output_type": "display_data"
    }
   ],
   "source": [
    "inputCols = [\"Timestamp\", \"SouthOutsidem3DO\", \"SouthOutsidem3Temp\", \"Southm3DO\"]\n",
    "#inputCols = [\"Timestamp\"]\n",
    "outputCols = [\"SalinityInsidem6.11\"]\n",
    "df_all = df[inputCols + outputCols].dropna()\n",
    "df_train = df_all.iloc[:8]\n",
    "y = df_train[outputCols].values\n",
    "Y = df_all[outputCols].values\n",
    "X = df_train[inputCols]\n",
    "gpr.fit(X, y)\n",
    "\n",
    "X_pred = df[inputCols].dropna()\n",
    "y_pred, y_cov = gpr.predict(X_pred, return_cov=True)\n",
    "plot_gp(X_pred.Timestamp, X.Timestamp, y, y_pred[:,0], y_cov)\n",
    "#fig = plt.figure(figsize=(10,8))\n",
    "#plt.plot(X_pred.Timestamp,y_pred)\n",
    "#df[outputCols].plot(marker='x', markersize= 10)"
   ]
  },
  {
   "cell_type": "code",
   "execution_count": null,
   "metadata": {},
   "outputs": [],
   "source": [
    "gpr.kernel_"
   ]
  },
  {
   "cell_type": "code",
   "execution_count": 13,
   "metadata": {},
   "outputs": [
    {
     "name": "stdout",
     "output_type": "stream",
     "text": [
      "Optimization restart 1/10, f = 6.6917077145322175\n",
      "Optimization restart 2/10, f = 7.112001190705453\n",
      "Optimization restart 3/10, f = 7.905317678634049\n",
      "Optimization restart 4/10, f = 7.766774393768605\n",
      "Optimization restart 5/10, f = 5.333021902456046\n",
      "Optimization restart 6/10, f = 7.911755937832899\n",
      "Optimization restart 7/10, f = 6.165421124597201\n",
      "Optimization restart 8/10, f = 7.963432204539728\n",
      "Optimization restart 9/10, f = 6.382028804282113\n"
     ]
    },
    {
     "name": "stderr",
     "output_type": "stream",
     "text": [
      " C:\\Users\\moesk\\anaconda3\\envs\\oxygenModel\\lib\\site-packages\\GPy\\kern\\src\\stationary.py:137: RuntimeWarning:overflow encountered in square\n",
      " C:\\Users\\moesk\\anaconda3\\envs\\oxygenModel\\lib\\site-packages\\GPy\\kern\\src\\stationary.py:138: RuntimeWarning:invalid value encountered in add\n"
     ]
    },
    {
     "name": "stdout",
     "output_type": "stream",
     "text": [
      "Optimization restart 10/10, f = 5.568105774987804\n",
      "(3994,)\n"
     ]
    },
    {
     "name": "stderr",
     "output_type": "stream",
     "text": [
      " C:\\Users\\moesk\\Documents\\Masteroppgave\\visualization\\plotters.py:154: RuntimeWarning:invalid value encountered in sqrt\n"
     ]
    },
    {
     "data": {
      "text/plain": [
       "[<matplotlib.lines.Line2D at 0x1958002cf08>]"
      ]
     },
     "execution_count": 13,
     "metadata": {},
     "output_type": "execute_result"
    },
    {
     "data": {
      "image/png": "[encoded data removed]",
      "text/plain": [
       "<Figure size 1152x864 with 1 Axes>"
      ]
     },
     "metadata": {
      "needs_background": "light"
     },
     "output_type": "display_data"
    }
   ],
   "source": [
    "k = GPy.kern.Matern32(4, variance = 650, active_dims = [0,1,2,3], ARD = True) + GPy.kern.White(input_dim=4) #+ GPy.kern.White(1, active_dims=[2])\n",
    "#k = GPy.kern.RBF(input_dim=1, active_dims = [0])# +GPy.kern.RBF(input_dim=1, active_dims = [0]) + GPy.kern.RBF(input_dim=1, active_dims = [1]) + GPy.kern.White(2)\n",
    "#k = GPy.kern.RBF(1, active_dims = [0]) + GPy.kern.RBF(1, active_dims = [1]) + GPy.kern.RBF(1, active_dims = [2])+ GPy.kern.Exponential(1, active_dims = [3]) + GPy.kern.White(input_dim=4)\n",
    "m = GPy.models.GPRegression(X.to_numpy(), y.reshape(-1,1),k, normalizer = False)\n",
    "m.optimize_restarts(num_restarts = 10);\n",
    "y_pred, y_cov= m.predict(X_pred.to_numpy(), full_cov=True)\n",
    "plot_gp(X_pred.Timestamp, X.Timestamp, y, y_pred[:,0], y_cov)\n",
    "plt.plot(df_all[\"Timestamp\"], Y, linewidth = 2, color = 'r')"
   ]
  },
  {
   "cell_type": "code",
   "execution_count": null,
   "metadata": {},
   "outputs": [],
   "source": [
    "m.input_sensitivity()"
   ]
  },
  {
   "cell_type": "code",
   "execution_count": null,
   "metadata": {},
   "outputs": [],
   "source": [
    "ax = sns.pairplot(df.loc[:,outputCols + inputCols], diag_kind= 'kde', corner=True, kind = \"reg\")"
   ]
  },
  {
   "cell_type": "code",
   "execution_count": null,
   "metadata": {},
   "outputs": [],
   "source": [
    "fig= plt.figure(figsize=(10,8))\n",
    "plt.plot(df_all[\"Timestamp\"], Y, linewidth = 2, color = 'r')\n",
    "df[\"SouthOutsidem3DO\"].plot(secondary_y = True,linewidth = 2, color = 'b')"
   ]
  },
  {
   "cell_type": "code",
   "execution_count": null,
   "metadata": {},
   "outputs": [],
   "source": [
    "plt.scatter(df[outputCols], df[\"SouthOutsidem3DO\"])"
   ]
  },
  {
   "cell_type": "code",
   "execution_count": null,
   "metadata": {},
   "outputs": [],
   "source": [
    "y_pred, y_cov= m.predict(X_pred.to_numpy(), full_cov=True)\n",
    "plot_gp(X_pred.Timestamp, X.Timestamp, y, y_pred[:,0], y_cov)\n",
    "plt.plot(df_all[\"Timestamp\"], Y, linewidth = 2, color = 'r')"
   ]
  },
  {
   "cell_type": "code",
   "execution_count": null,
   "metadata": {},
   "outputs": [],
   "source": [
    "plot_gp(X_pred.Timestamp, X.Timestamp, y, y_pred, y_cov)"
   ]
  },
  {
   "cell_type": "code",
   "execution_count": null,
   "metadata": {},
   "outputs": [],
   "source": [
    "#gp1_prior_samples = gp1.sample_y(X = X, n_samples=train.shape[0])\n",
    "gpr.fit(X_train, y_train)\n",
    "#gpr_prior_samples = gpr.sample_y(X= timeList[:600], n_samples = 1).T\n",
    "#Posterior predictive mean and covariance\n",
    "y_pred, y_cov = gpr.predict(prediction_timerange, return_cov=True)"
   ]
  },
  {
   "cell_type": "code",
   "execution_count": null,
   "metadata": {},
   "outputs": [],
   "source": [
    "#y_pred, y_cov = gpr.predict(prediction_timerange, return_cov=True)\n",
    "y_pred, y_cov = gpr.predict(X_test, return_cov=True)"
   ]
  },
  {
   "cell_type": "code",
   "execution_count": null,
   "metadata": {},
   "outputs": [],
   "source": [
    "#plt.plot(X_train, y_train, linestyle='none', marker='o', markersize=3, color='r')\n",
    "#plt.plot(X_test, y_test)\n",
    "gpr.kernel_"
   ]
  },
  {
   "cell_type": "code",
   "execution_count": null,
   "metadata": {},
   "outputs": [],
   "source": [
    "#gpr.score(X_test,y_test)\n",
    "print_metrics(y_test, y_pred)"
   ]
  },
  {
   "cell_type": "code",
   "execution_count": null,
   "metadata": {},
   "outputs": [],
   "source": [
    "plot_gp(prediction_timerange, X_test, y_test, y_pred, y_cov)\n",
    "#plot_gp(X_test, X_test, y_test, y_pred, y_cov)"
   ]
  },
  {
   "cell_type": "code",
   "execution_count": null,
   "metadata": {},
   "outputs": [],
   "source": [
    "plot_residuals(X_test, (y_test-y_pred))"
   ]
  },
  {
   "cell_type": "code",
   "execution_count": null,
   "metadata": {},
   "outputs": [],
   "source": [
    "plt.scatter(X_test, y_test, s=7, marker ='o', color='r', label='Residual')"
   ]
  },
  {
   "cell_type": "code",
   "execution_count": null,
   "metadata": {},
   "outputs": [],
   "source": [
    "plot_residuals(y_pred, (y_test-y_pred))"
   ]
  },
  {
   "cell_type": "markdown",
   "metadata": {},
   "source": [
    "# Spatial Gaussian Process"
   ]
  },
  {
   "cell_type": "code",
   "execution_count": null,
   "metadata": {},
   "outputs": [],
   "source": [
    "#sdf = df.loc[:,['Pos1m3DO','Pos1m6DO','Pos1m9DO','Pos1m12DO']]\n",
    "sdf = df[[col for col in df.columns if 'm3' in col and 'DO' in col]].dropna(axis = 0, how = 'all')\n",
    "sdf.head()"
   ]
  },
  {
   "cell_type": "code",
   "execution_count": null,
   "metadata": {},
   "outputs": [],
   "source": [
    "depth = np.linspace(3, 12, sdf.shape[1])\n",
    "sdf.iloc[0].values"
   ]
  },
  {
   "cell_type": "code",
   "execution_count": null,
   "metadata": {},
   "outputs": [],
   "source": [
    "# List of dates for prediction, 1 minute interval\n",
    "X = depth\n",
    "#X_train = train.index.values\n",
    "y = sdf.iloc[0].values\n",
    "#y_train = train.values\n",
    "\n",
    "# Specify a range (mesh) for prediction\n",
    "predictionRange = np.arange(\n",
    "        '2019-07-02T16:00:00.0000000',\n",
    "        '2019-07-06T00:00:00.0000000',\n",
    "        np.timedelta64(30, 's'),\n",
    "        dtype='datetime64'\n",
    "    )\n",
    "\n",
    "# Format inputs\n",
    "X = X.reshape(len(X), 1)\n",
    "#predictionRange = pd.to_datetime(predictionRange).to_julian_date().values\n",
    "\n",
    "predictionRange = np.linspace(2,13,100)\n",
    "predictionRange = predictionRange.reshape(len(predictionRange), 1)\n",
    "\n",
    "\n",
    "#X = [pd.to_numeric(time, downcast='float') for time in X]\n",
    "#predictionRange = [pd.to_numeric(time, downcast='float') for time in predictionRange]\n",
    "\n",
    "X_and_predictionRange = [*X, *predictionRange]"
   ]
  },
  {
   "cell_type": "code",
   "execution_count": null,
   "metadata": {},
   "outputs": [],
   "source": [
    "#kernel = Matern(length_scale=1.0, nu=1.0)\n",
    "#kernel = ConstantKernel(1.0) * RBF(length_scale=1.0) + WhiteKernel(1.0)\n",
    "length_scale_param=0.0015\n",
    "length_scale_bounds_param=(1e-05, 100000.0)\n",
    "nu_param=2.5\n",
    "\n",
    "matern=Matern(length_scale=length_scale_param, length_scale_bounds=length_scale_bounds_param, nu=nu_param)\n",
    "kernel = ConstantKernel(0.5) * RBF()\n",
    "\n",
    "sgpr = GaussianProcessRegressor(\n",
    "    kernel=kernel, \n",
    "    n_restarts_optimizer=9, \n",
    "    normalize_y=True,\n",
    "    alpha = 0.05\n",
    ")"
   ]
  },
  {
   "cell_type": "code",
   "execution_count": null,
   "metadata": {},
   "outputs": [],
   "source": [
    "#gp1_prior_samples = gp1.sample_y(X = X, n_samples=train.shape[0])\n",
    "sgpr.fit(X, y)\n",
    "#gpr_prior_samples = gpr.sample_y(X= timeList[:600], n_samples = 1).T\n",
    "#Posterior predictive mean and covariance\n",
    "y_pred, y_cov = sgpr.predict(predictionRange, return_cov=True)\n",
    "sgpr.kernel_"
   ]
  },
  {
   "cell_type": "code",
   "execution_count": null,
   "metadata": {},
   "outputs": [],
   "source": [
    "sgpr.kernel_"
   ]
  },
  {
   "cell_type": "code",
   "execution_count": null,
   "metadata": {},
   "outputs": [],
   "source": [
    "plot_gp(predictionRange, X, y, y_pred, y_cov)"
   ]
  },
  {
   "cell_type": "markdown",
   "metadata": {},
   "source": [
    "# Spatio-Temporal Gaussian Process"
   ]
  },
  {
   "cell_type": "markdown",
   "metadata": {},
   "source": [
    "## Depth and time "
   ]
  },
  {
   "cell_type": "code",
   "execution_count": null,
   "metadata": {},
   "outputs": [],
   "source": [
    "stdf = df.loc[:,['Pos1m3DO','Pos1m6DO','Pos1m9DO','Pos1m12DO']].dropna(axis = 0, how = 'all')\n",
    "stdf = stdf.iloc[:100]\n",
    "y_train, y_test = train_test_split(stdf, test_size=0.2)"
   ]
  },
  {
   "cell_type": "code",
   "execution_count": null,
   "metadata": {},
   "outputs": [],
   "source": [
    "#kernel = Matern(length_scale=1.0, nu=1.0)\n",
    "#kernel = ConstantKernel(1.0) * RBF(length_scale=1.0) + WhiteKernel(1.0)\n",
    "length_scale_param=0.0015\n",
    "length_scale_bounds_param=(1e-05, 100000.0)\n",
    "nu_param=2.5\n",
    "\n",
    "matern=Matern(length_scale=length_scale_param, length_scale_bounds=length_scale_bounds_param, nu=nu_param)\n",
    "kernel = RBF(length_scale=[2.0, 0.015]) + ExpSineSquared() + WhiteKernel()\n",
    "\n",
    "stgpr = GaussianProcessRegressor(\n",
    "    kernel=kernel, \n",
    "    n_restarts_optimizer=20, \n",
    "    normalize_y=True,\n",
    "    #alpha = 0.05,\n",
    "    #n_jobs = -1\n",
    ")"
   ]
  },
  {
   "cell_type": "code",
   "execution_count": null,
   "metadata": {},
   "outputs": [],
   "source": [
    "X= []\n",
    "for col in stdf.columns:\n",
    "    depth = int(re.search('m\\d+', col).group()[1:])\n",
    "    X.extend([(depth, timestamp) for  timestamp in stdf[col].dropna().index])\n",
    "\n",
    "X = np.array(X)\n",
    "y = stdf.values.ravel('F')[~np.isnan(stdf.values.ravel('F'))]\n",
    "\n",
    "# Specify a range (mesh) for prediction\n",
    "prediction_timerange = np.arange(\n",
    "        '2019-07-02T16:00:00.0000000',\n",
    "        '2019-07-06T00:00:00.0000000',\n",
    "        np.timedelta64(30, 's'),\n",
    "        dtype='datetime64'\n",
    "    )\n",
    "prediction_timerange = pd.to_datetime(prediction_timerange).to_julian_date().values\n",
    "#prediction_timerange = prediction_timerange.reshape(len(prediction_timerange), 1)\n",
    "\n",
    "prediction_spacerange = np.linspace(2,13,55)\n",
    "prediction_mesh = [(3.0, timestamp) for timestamp in prediction_timerange]\n",
    "prediction_mesh = np.array(prediction_mesh)\n",
    "# Format inputs\n",
    "#X.reshape(-1, 1)\n",
    "#np.set_printoptions(precision=16)\n"
   ]
  },
  {
   "cell_type": "code",
   "execution_count": null,
   "metadata": {},
   "outputs": [],
   "source": [
    "prediction_mesh = [(depth, X[50][1]) for depth in prediction_spacerange]\n",
    "prediction_mesh = np.array(prediction_mesh)"
   ]
  },
  {
   "cell_type": "code",
   "execution_count": null,
   "metadata": {},
   "outputs": [],
   "source": [
    "stgpr.fit(X, y)\n",
    "#joblib.dump(stgpr, 'stgpr1_1')"
   ]
  },
  {
   "cell_type": "code",
   "execution_count": null,
   "metadata": {},
   "outputs": [],
   "source": [
    "y.mean(axis=0)"
   ]
  },
  {
   "cell_type": "code",
   "execution_count": null,
   "metadata": {},
   "outputs": [],
   "source": [
    "y_pred, y_cov = stgpr.predict(prediction_mesh, return_cov=True)"
   ]
  },
  {
   "cell_type": "code",
   "execution_count": null,
   "metadata": {},
   "outputs": [],
   "source": [
    "stgpr.score(X,y)"
   ]
  },
  {
   "cell_type": "code",
   "execution_count": null,
   "metadata": {},
   "outputs": [],
   "source": [
    "stgpr.kernel_"
   ]
  },
  {
   "cell_type": "code",
   "execution_count": null,
   "metadata": {},
   "outputs": [],
   "source": [
    "plot_gp(prediction_spacerange, [depth[0] for depth in X], y, y_pred, y_cov)\n",
    "plt.plot(np.linspace(3, 12, 4), stdf.iloc[50].values, marker='x', linestyle='none', markersize =20.0)\n",
    "#save fig"
   ]
  },
  {
   "cell_type": "markdown",
   "metadata": {},
   "source": [
    "## Long, lat and Time"
   ]
  },
  {
   "cell_type": "code",
   "execution_count": null,
   "metadata": {},
   "outputs": [],
   "source": [
    "DOm3columns = [col for col in df.columns if 'm3' in col and 'DO' in col]\n",
    "\n",
    "stdf = df.loc[:,DOm3columns].dropna(axis = 0, how = 'all')\n",
    "stdf = stdf.iloc[:100]\n",
    "\n",
    "y_train, y_test = train_test_split(stdf, test_size=0.2)"
   ]
  },
  {
   "cell_type": "code",
   "execution_count": null,
   "metadata": {},
   "outputs": [],
   "source": [
    "X= []\n",
    "for col in stdf.columns:\n",
    "    depth = int(re.search('m\\d+', col).group()[1:])\n",
    "    X.extend([(depth, timestamp) for  timestamp in stdf[col].dropna().index])\n",
    "\n",
    "X = np.array(X)\n",
    "y = stdf.values.ravel('F')[~np.isnan(stdf.values.ravel('F'))]\n",
    "\n",
    "# Specify a range (mesh) for prediction\n",
    "prediction_timerange = np.arange(\n",
    "        '2019-07-02T16:00:00.0000000',\n",
    "        '2019-07-06T00:00:00.0000000',\n",
    "        np.timedelta64(30, 's'),\n",
    "        dtype='datetime64'\n",
    "    )\n",
    "prediction_timerange = pd.to_datetime(prediction_timerange).to_julian_date().values\n",
    "#prediction_timerange = prediction_timerange.reshape(len(prediction_timerange), 1)\n",
    "\n",
    "prediction_spacerange = np.linspace(2,13,55)\n",
    "\n",
    "prediction_mesh = [(3.0, timestamp) for timestamp in prediction_timerange]\n",
    "prediction_mesh = np.array(prediction_mesh)\n",
    "# Format inputs\n",
    "#X.reshape(-1, 1)\n",
    "#np.set_printoptions(precision=16)"
   ]
  },
  {
   "cell_type": "code",
   "execution_count": null,
   "metadata": {},
   "outputs": [],
   "source": [
    "def a(type):\n",
    "    if type =='a':\n",
    "        def kernel(x1, x2):\n",
    "            print(x1)\n",
    "            print(x2)\n",
    "    else:\n",
    "        def kernel(x1, x2):\n",
    "            print('No kernel')\n",
    "    return kernel\n",
    "\n",
    "def b(x1, x2, func):\n",
    "    c = func(x1,x2)\n",
    "    return c"
   ]
  },
  {
   "cell_type": "code",
   "execution_count": null,
   "metadata": {},
   "outputs": [],
   "source": [
    "class Params(object):\n",
    "    def __init__(self):\n",
    "        self.data = {}\n",
    "        self.data['numLocs'] = 100\n",
    "        \n",
    "class gptest(object):\n",
    "    def __init__(self):\n",
    "        self.params = Params()\n",
    "        print(self.params.data)"
   ]
  },
  {
   "cell_type": "code",
   "execution_count": null,
   "metadata": {},
   "outputs": [],
   "source": [
    "class Params(object):\n",
    "    def __init__(self):\n",
    "        self.data = {}\n",
    "        self.data['numLocs'] = 100\n",
    "\n",
    "        self.data['spaceLocsIdx'] = np.arange(0,self.data['numLocs']).conj().T\n",
    "        self.data['spaceLocs'] = np.arange(0, self.data['numLocs']).conj().T\n",
    "        \n",
    "        self.data['samplingTime'] = 0.5\n",
    "        self.data['startTime'] = 0\n",
    "        self.data['endTime'] = 10\n",
    "                \n",
    "        self.data['noiseStd'] = 0.316\n",
    "\n",
    "        self.data['kernel'] = {}\n",
    "\n",
    "        self.data['kernel']['space'] = {}\n",
    "        self.data['kernel']['space']['type'] = 'exponential'\n",
    "        self.data['kernel']['space']['scale'] = 1\n",
    "        self.data['kernel']['space']['std'] = 1\n",
    "\n",
    "        self.data['kernel']['time'] = {}\n",
    "        self.data['kernel']['time']['type'] = 'exponential' #'exponential', 'gaussian', 'periodic'\n",
    "        self.data['kernel']['time']['scale'] = 1            # NOTE: to use gaussian kernel with GPKF\n",
    "        self.data['kernel']['time']['std'] = 1              # scale and std must be set to 1\n",
    "        self.data['kernel']['time']['frequency'] = 1\n",
    "        \n",
    "        # NONPERAMETRIC KERNEL parameter\n",
    "        #self.np.kernel = self.data.kernel\n",
    "        \n",
    "        # GPKF parameters\n",
    "        self.gpkf = {}\n",
    "        self.gpkf['kernel'] = self.data['kernel']\n",
    "\n",
    "        # Compute additional (common) parameters\n",
    "        self.data['spaceLocsMeasIdx'] = np.sort(np.random.choice(self.data['spaceLocsIdx'], int(np.around(0.8*self.data['numLocs'])), replace=False))\n",
    "        #print(self.data['spaceLocs'][self.data['spaceLocsMeasIdx']])\n",
    "\n",
    "        self.data['spaceLocsMeas'] = self.data['spaceLocs'][self.data['spaceLocsMeasIdx']]\n",
    "        self.data['spaceLocsPredIdx'] = np.setdiff1d(self.data['spaceLocsIdx'], self.data['spaceLocsMeasIdx'])\n",
    "        self.data['spaceLocsPred'] = self.data['spaceLocs'][self.data['spaceLocsPredIdx']]\n",
    "\n",
    "        \"\"\" REMEMBER THAT THAT THIS IS DIFFERENT! ORIGINAL:\n",
    "        Params.data.spaceLocsMeasIdx = sort(datasample(Params.data.spaceLocsIdx, round(0.8*Params.data.numLocs), 'Replace', false));\n",
    "        Params.data.spaceLocsMeas = Params.data.spaceLocs(Params.data.spaceLocsMeasIdx,:);\n",
    "        Params.data.spaceLocsPredIdx = setdiff(Params.data.spaceLocsIdx, Params.data.spaceLocsMeasIdx);\n",
    "        Params.data.spaceLocsPred = Params.data.spaceLocs(Params.data.spaceLocsPredIdx,:);\n",
    "        \"\"\"\n",
    "\n",
    "        self.data['timeInstants'] = np.arange(self.data['startTime'], self.data['endTime'] + self.data['samplingTime'], self.data['samplingTime']).conj().T\n",
    "\n",
    "        if self.gpkf['kernel']['time']['type'] == 'exponential':\n",
    "            self.gpkf['kernel']['time']['num'] = np.array([np.sqrt(2*self.gpkf['kernel']['time']['scale'] / self.gpkf['kernel']['time']['std'])])\n",
    "            self.gpkf['kernel']['time']['den'] = np.array([1/self.gpkf['kernel']['time']['std']])\n",
    "            \n",
    "        elif self.gpkf['kernel']['time']['type'] == 'periodic':\n",
    "            self.gpkf['kernel']['time']['num'] = np.array([np.sqrt(2*self.gpkf['kernel']['time']['scale'] / self.gpkf['kernel']['time']['std']) * np.array([np.sqrt((1/self.gpkf['kernel']['time']['std'])**2 + (2*pi*self.gpkf['kernel']['time']['frequency'])**2) , 1])])\n",
    "                    \n",
    "            self.gpkf['kernel']['time']['den'] = np.array([((1/self.gpkf['kernel']['time']['std'])**2 + (2*pi*self.gpkf['kernel']['time']['frequency'])**2 ), 2/self.gpkf['kernel']['time']['std']])\n",
    "\n",
    "        else:\n",
    "            print('Not admissible kernel type')"
   ]
  },
  {
   "cell_type": "code",
   "execution_count": null,
   "metadata": {},
   "outputs": [],
   "source": [
    "def createDiscreteTimeSys(num_coeff, den_coeff, Ts):\n",
    "    # state dimension\n",
    "    stateDim  = np.max(den_coeff.shape)\n",
    "\n",
    "    if stateDim ==1:\n",
    "        print('1 dim')\n",
    "        F = -den_coeff       # state matrix\n",
    "        A = np.exp(F * Ts)   # Discretization\n",
    "        G = np.array([1])\n",
    "    else:\n",
    "        print('more dims')\n",
    "        F = np.diag(np.ones((1,stateDim-1)),1).copy()\n",
    "        F[stateDim-1] = -den_coeff\n",
    "        A = expm(F * Ts)  # state matrix\n",
    "        G = np.vstack([np.zeros((stateDim-1,1)),1]) # input matrix\n",
    "    \n",
    "    # output matrix\n",
    "    C = np.zeros((1,stateDim))\n",
    "    C[0:np.max(num_coeff.shape)] = num_coeff\n",
    "\n",
    "    # state variance as solution of the lyapunov equation\n",
    "    V = solve_continuous_lyapunov(F, -np.matmul(G, G.conj().T))\n",
    "\n",
    "    # discretization of the noise matrix\n",
    "    Q = np.zeros(stateDim)\n",
    "    Ns = 10000        \n",
    "    t = Ts/Ns\n",
    "    if stateDim == 1:\n",
    "        for n in np.arange(t, Ts+t, step=t):\n",
    "            Q = Q + t * np.exp(np.dot(F,n)) * np.dot(G,G.conj().T) * np.exp(np.dot(F,n)).conj().T\n",
    "    else:\n",
    "        for n in np.arange(t, Ts+t, step=t):\n",
    "            Q = Q + np.linalg.multi_dot([t, expm(np.dot(F,n)), np.dot(G,G.conj().T), expm(np.dot(F,n)).conj().T])\n",
    "    \n",
    "    return A, C, V, Q"
   ]
  },
  {
   "cell_type": "code",
   "execution_count": null,
   "metadata": {},
   "outputs": [],
   "source": [
    "def kernelFunction(type, params):\n",
    "    \"\"\"\n",
    "    kernel = kernelFunction(type,kernel_specific_parameter) returns a function\n",
    "    describing the desired kernel.\n",
    "\n",
    "    INPUT: type: kernel type\n",
    "           args: necessary (kernel specific) paremeters. \n",
    "                 Consistency must be ensured by the user\n",
    "\n",
    "    OUTPUT: kernel: kernel function\n",
    "    \"\"\"\n",
    "    if type == 'separable':\n",
    "        ks = kernelFunction(params['space']['type'], params['space']['scale'], params['space']['std'])\n",
    "        kt = kernelFunction(params['time']['type'], params['time']['scale'], params['time']['std'])\n",
    "        def kernel(x1,x2):\n",
    "            return np.matmul(kt(x1[0],x2[0]), ks(x1[1:end],x2[1:end]))\n",
    "    \n",
    "    elif type == 'exponential':\n",
    "        scale = params['scale']\n",
    "        std_dev = params['std']\n",
    "        def kernel(x1,x2):\n",
    "            return scale *np.exp(-np.linalg.norm(x1-x2) / std_dev)\n",
    "\n",
    "    elif type == 'gaussian':\n",
    "        scale = params['scale']\n",
    "        std_dev = params['std']\n",
    "        def kernel(x1,x2):\n",
    "            return np.dot(scale, (np.exp(-np.linalg.norm(x1-x2)**2 / (2*std_dev**2))))\n",
    "        \n",
    "    elif type == 'periodic':\n",
    "        scale = params['scale']\n",
    "        std_dev = params['std']\n",
    "        frequency = params['frequency']\n",
    "        def kernel(x1,x2):\n",
    "            return np.linalg.multi_dot([scale, np.cos(2*pi*frequency * np.linalg.norm(x1-x2)), np.exp(-np.linalg.norm(x1-x2)/std_dev)])\n",
    "        \n",
    "    else:\n",
    "        print('Unknown type of kernel')\n",
    "\n",
    "    return kernel"
   ]
  },
  {
   "cell_type": "code",
   "execution_count": null,
   "metadata": {},
   "outputs": [],
   "source": [
    "def kernelSampled(input_set_1, input_set_2, kernel_func):\n",
    "    \"\"\"\n",
    "    kernelSampled returns sampled kernel\n",
    "       K = kernelSampled(kernel_function, *args) returns the kernel \n",
    "       (given as input function) sampled across the desired input set\n",
    "       Consistency among kernel function and input sets must be priorly ensure\n",
    "       by the user\n",
    "    \"\"\"\n",
    "\n",
    "    # cardinalities of input sets\n",
    "    n_input1 = input_set_1.shape[0]\n",
    "    n_input2 = input_set_2.shape[0]\n",
    "\n",
    "    # initialize\n",
    "    K = np.zeros((n_input1,n_input2))\n",
    "\n",
    "    for i in np.arange(0, n_input1):\n",
    "        for j in np.arange(0, n_input2):\n",
    "            #todo: fix [i,:]\n",
    "            K[i,j] = kernel_func(input_set_1[i] , input_set_2[j])\n",
    "\n",
    "    return K"
   ]
  },
  {
   "cell_type": "code",
   "execution_count": null,
   "metadata": {},
   "outputs": [],
   "source": [
    "def kernelSpaceTimeSampled(space_locs1, space_locs2, time_instants1, time_instants2, param):\n",
    "    \"\"\"\n",
    "    K = kernelSpaceTimeSampled(space_locs, time_instants, kernel_param) build the \n",
    "    space and time kernels, sample them in the desired set of input \n",
    "    locations and returns the kernel (given as input function) sampled \n",
    "    across the desired input set.\n",
    "    Consistency among kernel function and input sets must be priorly ensure\n",
    "    by the user\n",
    "\n",
    "    This way of sampling the space-time kernel is just one possibility. It\n",
    "    would be possible to directly use the function kernelSampled by properly\n",
    "    specifying the input sets. However, this implementation is more efficient\n",
    "    \"\"\"\n",
    "\n",
    "    # compute kernel functions\n",
    "    kernel_space = kernelFunction(param['space']['type'], param['space'])\n",
    "    kernel_time = kernelFunction(param['time']['type'] , param['time'])\n",
    "\n",
    "    # sampled kernels\n",
    "    Ks = kernelSampled(space_locs1, space_locs2, kernel_space)\n",
    "    Kt = kernelSampled(time_instants1, time_instants2, kernel_time)\n",
    "\n",
    "    # overall space-time kernel\n",
    "    K = np.kron(Kt,Ks)\n",
    "\n",
    "    return K"
   ]
  },
  {
   "cell_type": "code",
   "execution_count": null,
   "metadata": {},
   "outputs": [],
   "source": [
    "def estimation(meas, noiseVar, params):\n",
    "\n",
    "        # number of measured locations and time instants\n",
    "        numSpaceLocs,numTimeInstants = meas.shape\n",
    "\n",
    "        # create DT state space model\n",
    "        a,c,v0,q = createDiscreteTimeSys(params.gpkf['kernel']['time']['num'], params.gpkf['kernel']['time']['den'], params.data['samplingTime'])\n",
    "        \n",
    "        # create space kernel\n",
    "        kernel_space = kernelFunction(params.gpkf['kernel']['space']['type'], params.gpkf['kernel']['space'])\n",
    "        Ks_chol = np.linalg.cholesky(kernelSampled(params.data['spaceLocsMeas'], params.data['spaceLocsMeas'], kernel_space)).conj()\n",
    "        \n",
    "        # initialize quantities needed for kalman estimation\n",
    "        I = np.eye(numSpaceLocs)\n",
    "        A = np.kron(I,a)\n",
    "        C = np.matmul(Ks_chol, np.kron(I,c))\n",
    "        V0 = np.kron(I,v0)\n",
    "        Q = np.kron(I,q)\n",
    "        R = np.zeros((numSpaceLocs, numSpaceLocs, numTimeInstants))\n",
    "        for t in np.arange(0, numTimeInstants):\n",
    "            R[:,:,t] = np.diag(noiseVar[:,t]).copy()\n",
    "        \n",
    "        # compute kalman estimate\n",
    "        x,V,xp,Vp,logMarginal = kalmanEst(A,C,Q,V0,meas,R)\n",
    "\n",
    "        # output function\n",
    "        posteriorMean = np.matmul(C,x)\n",
    "        posteriorMeanPred = np.matmul(C,xp)\n",
    "\n",
    "        # posterior variance\n",
    "        O3 = np.zeros((numSpaceLocs, numSpaceLocs, numTimeInstants))\n",
    "        posteriorCov = O3.copy()\n",
    "        posteriorCovPred = O3.copy()\n",
    "        outputCov = O3.copy()\n",
    "        outputCovPred = O3.copy()\n",
    "\n",
    "        for t in np.arange(0, numTimeInstants):\n",
    "            \n",
    "            # extract variance\n",
    "            posteriorCov[:,:,t] = np.linalg.multi_dot([C, V[:,:,t], C.conj().T])\n",
    "            posteriorCovPred[:,:,t] = np.linalg.multi_dot([C, Vp[:,:,t], C.conj().T])\n",
    "            \n",
    "            # compute output variance\n",
    "            outputCov[:,:,t] = posteriorCov[:,:,t] + R[:,:,t]\n",
    "            outputCovPred[:,:,t] = posteriorCovPred[:,:,t] + R[:,:,t]\n",
    "        \n",
    "        return posteriorMean, posteriorCov, logMarginal"
   ]
  },
  {
   "cell_type": "code",
   "execution_count": null,
   "metadata": {},
   "outputs": [],
   "source": [
    "def kalmanEst(A, C, Q, V0, meas, noiseVar):\n",
    "\n",
    "    numTimeInstants = meas.shape[1]\n",
    "    stateDim = A.shape[0]\n",
    "    I = np.eye(stateDim)\n",
    "    times = np.zeros((numTimeInstants,1))\n",
    "    logMarginal = 0\n",
    "\n",
    "    # initialization\n",
    "    xt = np.zeros((stateDim,1))\n",
    "    Vt = V0\n",
    "    xp = np.zeros((stateDim,numTimeInstants))\n",
    "    Vp = np.zeros((stateDim,stateDim,numTimeInstants))\n",
    "    x = np.zeros((stateDim,numTimeInstants))\n",
    "    V = np.zeros((stateDim,stateDim,numTimeInstants))\n",
    "    \n",
    "    #print(noiseVar)\n",
    "    for t in np.arange(0, numTimeInstants):\n",
    "        # prediction\n",
    "        xpt = np.matmul(A,xt)\n",
    "        Vpt = A @ Vt @ A.conj().T + Q\n",
    "\n",
    "        # correction\n",
    "        notNanPos = np.logical_not(np.isnan(meas[:,t]))\n",
    "        Ct = C[notNanPos,:]\n",
    "        Rt = noiseVar[:,:,t][np.ix_(notNanPos, notNanPos)]\n",
    "\n",
    "        innovation = meas[:,t][np.newaxis].T[np.ix_(notNanPos)] -  (Ct @ xpt)\n",
    "        innovVar = np.linalg.multi_dot([Ct, Vpt, Ct.conj().T]) + Rt\n",
    "        K = np.linalg.solve(innovVar.conj().T,(np.matmul(Vpt, Ct.conj().T)).conj().T).conj().T   # kalman gain\n",
    "        correction = np.matmul(K, innovation)\n",
    "        \n",
    "        xt = xpt + correction\n",
    "\n",
    "        Vt = np.linalg.multi_dot([(I - np.matmul(K,Ct)), Vpt ,(I - np.matmul(K,Ct)).conj().T]) + np.linalg.multi_dot([K, Rt, K.conj().T])\n",
    "\n",
    "        # save values\n",
    "        xp[:,t] = xpt[:,0]\n",
    "        Vp[:,:,t] = Vpt[:,:]\n",
    "        x[:,t] = xt[:,0]\n",
    "        V[:,:,t] = Vt[:,:]\n",
    "          \n",
    "        # computations for the marginal likelihood\n",
    "        l1 = np.sum(np.log(np.linalg.eig(innovVar)[0]))\n",
    "        l2 = np.matmul(innovation.conj().T, np.linalg.solve(innovVar, innovation))\n",
    "\n",
    "        logMarginal = logMarginal +  0.5*(np.max(innovation.shape) * np.log(2*np.pi) + l1 + l2)\n",
    "        \n",
    "    return x, V, xp, Vp, logMarginal"
   ]
  },
  {
   "cell_type": "code",
   "execution_count": null,
   "metadata": {},
   "outputs": [],
   "source": [
    "def prediction(meas, noiseVar, params):\n",
    "\n",
    "        postMean, postCov, logMarginal = estimation(meas, noiseVar, params)\n",
    "        \n",
    "        kernel_space = kernelFunction(params.gpkf['kernel']['space']['type'], params.gpkf['kernel']['space'])\n",
    "        kernelSection = kernelSampled(params.data['spaceLocsPred'], params.data['spaceLocsMeas'], kernel_space)\n",
    "        kernelPrediction = kernelSampled(params.data['spaceLocsPred'], params.data['spaceLocsPred'], kernel_space)\n",
    "        Ks = kernelSampled(params.data['spaceLocsMeas'], params.data['spaceLocsMeas'], kernel_space)\n",
    "\n",
    "        #I = np.eye(Ks.shape[0])\n",
    "        Ks_inv = np.linalg.inv(Ks)\n",
    "\n",
    "        numSpaceLocsPred = np.max(params.data['spaceLocsPred'].shape)\n",
    "        numTimeInsts = np.max(params.data['timeInstants'].shape)\n",
    "        predictedCov = np.zeros((numSpaceLocsPred, numSpaceLocsPred, numTimeInsts))\n",
    "        scale = params.gpkf['kernel']['time']['scale']\n",
    "\n",
    "        predictedMean = np.matmul(kernelSection, np.matmul(Ks_inv, postMean))\n",
    "                \n",
    "        for t in np.arange(0, numTimeInsts):\n",
    "            W = Ks_inv @ (Ks - postCov[:,:,t].conj().T / scale) @ Ks_inv\n",
    "            predictedCov[:,:,t] = np.linalg.multi_dot([scale, (kernelPrediction - np.linalg.multi_dot([kernelSection, W, kernelSection.conj().T]))])\n",
    "\n",
    "        return predictedMean, predictedCov"
   ]
  },
  {
   "cell_type": "code",
   "execution_count": null,
   "metadata": {},
   "outputs": [],
   "source": [
    "def generateSyntheticData(param):\n",
    "    # create space-time sampled kernel\n",
    "    K = kernelSpaceTimeSampled(param['spaceLocs'], param['spaceLocs'], param['timeInstants'], param['timeInstants'], param['kernel'])\n",
    "\n",
    "    # sample \"true\" (zero mean) GP and measurements\n",
    "    f = np.random.multivariate_normal(np.zeros(K.shape[0]), K, 1).conj().T\n",
    "\n",
    "    # rearganization in matrix form (row:space, columns:time)\n",
    "    numSpaceLocs = np.max(param['spaceLocs'].shape)\n",
    "    numTimeInst = np.max(param['timeInstants'].shape)\n",
    "    F = np.reshape(f , (numSpaceLocs , numTimeInst))\n",
    "\n",
    "    # create measurements\n",
    "    numSpaceLocsMeas = np.max(param['spaceLocsMeas'].shape)\n",
    "    Y = F[param['spaceLocsMeas'],:] + param['noiseStd'] * np.random.standard_normal((numSpaceLocsMeas, numTimeInst))\n",
    "\n",
    "    # delete (randomly) some measurements and build measurement cov matrix\n",
    "    noiseVar = param['noiseStd']**2 * np.ones((numSpaceLocsMeas, numTimeInst))\n",
    "    for t in np.arange(0,numTimeInst):\n",
    "        idx = np.sort(np.random.permutation(numSpaceLocsMeas)[:np.random.randint(numSpaceLocsMeas)]).conj().T\n",
    "        Y[idx,t] = np.nan\n",
    "        noiseVar[idx,t] = np.inf\n",
    "\n",
    "    return F, Y, noiseVar"
   ]
  },
  {
   "cell_type": "code",
   "execution_count": null,
   "metadata": {},
   "outputs": [],
   "source": [
    "params = Params()\n",
    "#meas = np.array([[1, 2],[3,4],[5,6]])\n",
    "#noiseVar = 0.1 * np.ones((3,2))\n",
    "F, meas, noiseVar = generateSyntheticData(params.data)\n",
    "pMean, pCov, logMarginal = estimation(meas, noiseVar, params)\n",
    "predMean, predCov = prediction(meas, noiseVar, params)"
   ]
  },
  {
   "cell_type": "code",
   "execution_count": null,
   "metadata": {},
   "outputs": [],
   "source": [
    "print(predMean.shape)"
   ]
  }
 ],
 "metadata": {
  "kernelspec": {
   "display_name": "Python 3",
   "language": "python",
   "name": "python3"
  },
  "language_info": {
   "codemirror_mode": {
    "name": "ipython",
    "version": 3
   },
   "file_extension": ".py",
   "mimetype": "text/x-python",
   "name": "python",
   "nbconvert_exporter": "python",
   "pygments_lexer": "ipython3",
   "version": "3.7.9"
  }
 },
 "nbformat": 4,
 "nbformat_minor": 4
}
